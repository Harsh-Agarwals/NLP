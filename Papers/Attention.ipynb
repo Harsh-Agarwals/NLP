{
 "cells": [
  {
   "cell_type": "markdown",
   "id": "5bf155c8",
   "metadata": {},
   "source": [
    "# Building attention mechanism in Encoder-decoder from Scratch"
   ]
  },
  {
   "cell_type": "code",
   "execution_count": null,
   "id": "c0963c86",
   "metadata": {},
   "outputs": [],
   "source": [
    "import torch\n",
    "from torch import nn"
   ]
  },
  {
   "cell_type": "code",
   "execution_count": null,
   "id": "2d67cbde",
   "metadata": {},
   "outputs": [],
   "source": [
    "class Encoder(nn.Module):\n",
    "    def __init__(self, vocab_size, embd_dropout, input_size, hidden_size, num_layers, dropout):\n",
    "        super().__init__()\n",
    "        self.embedding = nn.Embedding(num_embeddings=vocab_size, embedding_dim=input_size, padding_idx=0, max_norm=1)\n",
    "        self.lstm_layers = nn.LSTM(input_size=input_size, hidden_size=hidden_size, num_layers=num_layers, batch_first=True, dropout=dropout if num_layers>1 else 0, bidirectional=True)\n",
    "        self.embd_dropout = nn.Dropout(embd_dropout)\n",
    "\n",
    "    def forward(self, x: torch.Tensor) -> torch.Tensor:\n",
    "        embeddings = self.embedding(x)\n",
    "        embeddings = self.embd_dropout(embeddings)\n",
    "        output, (h_n, c_n) = self.lstm_layers(embeddings)\n",
    "        return output, h_n, c_n\n",
    "    \n",
    "class Decoder(nn.Module):\n",
    "    def __init__(self, vocab_size, input_size, hidden_size, num_layers, dropout):\n",
    "        super().__init__()\n",
    "        self.embedding = nn.Embedding(num_embeddings=vocab_size, embedding_dim=input_size, padding_idx=0, max_norm=1)\n",
    "        self.lstm_layers = nn.LSTM(input_size=input_size, hidden_size=hidden_size, num_layers=num_layers, batch_first=True, dropout=dropout if num_layers > 1 else 0, bidirectional=False)\n",
    "        self.out = nn.Linear(in_features=hidden_size, out_features=vocab_size)\n",
    "\n",
    "    def forward(self, tgt, hidden):\n",
    "        x = self.embedding(tgt)\n",
    "\n",
    "        output, (h, c) = self.lstm_layers(x, hidden)\n",
    "        output = self.out(output)\n",
    "        return output, h, c\n",
    "\n",
    "class EncoderDecoderAttention(nn.Module):\n",
    "    def __init__(self, vocab_size, embd_dropout, input_size, hidden_size, num_layers, dropout):\n",
    "        super().__init__()\n",
    "        self.encoder = Encoder(vocab_size=vocab_size, embd_dropout=embd_dropout, input_size=input_size, hidden_size=hidden_size, num_layers=num_layers, dropout=dropout)\n",
    "        self.linear = nn.ModuleList([\n",
    "            nn.Linear(in_features=hidden_size*2, out_features=hidden_size) for i in range(num_layers)\n",
    "        ])\n",
    "\n",
    "        self.decoder = Decoder(vocab_size=vocab_size, input_size=input_size, hidden_size=hidden_size, num_layers=num_layers, dropout=dropout)\n",
    "\n",
    "    def combine_bidirectional_outputs(self, matrix, linear):\n",
    "        m_new = []\n",
    "\n",
    "        for i in range(len(matrix)//2):\n",
    "            m_first = matrix[2*i]\n",
    "            m_second = matrix[2*i+1]\n",
    "            m_n_new = torch.cat([m_first, m_second], dim=-1)\n",
    "            m_n_new = torch.tanh(linear[i](m_n_new))\n",
    "            m_new.append(m_n_new)\n",
    "        m_new = torch.stack(m_new)\n",
    "\n",
    "        return m_new\n",
    "\n",
    "    def forward(self, x: torch.Tensor, tgt: torch.Tensor) -> torch.Tensor:\n",
    "        output, h_n, c_n = self.encoder(x)\n",
    "\n",
    "        h_new = self.combine_bidirectional_outputs(matrix=h_n, linear=self.linear)\n",
    "        c_new = self.combine_bidirectional_outputs(matrix=c_n, linear=self.linear)\n",
    "\n",
    "        output, h, c = self.decoder(tgt, (h_new, c_new))\n",
    "        return output\n",
    "        "
   ]
  },
  {
   "cell_type": "code",
   "execution_count": null,
   "id": "deb3a770",
   "metadata": {},
   "outputs": [],
   "source": [
    "model = EncoderDecoderAttention(vocab_size=10000, embd_dropout=0.2, input_size=512, hidden_size=256, num_layers=2, dropout=0.25)"
   ]
  },
  {
   "cell_type": "code",
   "execution_count": 65,
   "id": "817decd7",
   "metadata": {},
   "outputs": [
    {
     "name": "stdout",
     "output_type": "stream",
     "text": [
      "torch.Size([2, 64, 256]) torch.Size([2, 64, 256])\n"
     ]
    },
    {
     "data": {
      "text/plain": [
       "===================================================================================================================\n",
       "Layer (type:depth-idx)                   Input Shape               Output Shape              Param #\n",
       "===================================================================================================================\n",
       "EncoderDecoderAttention                  [64, 1024]                --                        --\n",
       "├─Encoder: 1-1                           [64, 1024]                [64, 1024, 512]           --\n",
       "│    └─Embedding: 2-1                    [64, 1024]                [64, 1024, 512]           5,120,000\n",
       "│    └─Dropout: 2-2                      [64, 1024, 512]           [64, 1024, 512]           --\n",
       "│    └─LSTM: 2-3                         [64, 1024, 512]           [64, 1024, 512]           3,153,920\n",
       "├─ModuleList: 1-2                        --                        --                        --\n",
       "│    └─Linear: 2-4                       [64, 512]                 [64, 256]                 131,328\n",
       "│    └─Linear: 2-5                       [64, 512]                 [64, 256]                 131,328\n",
       "│    └─Linear: 2-6                       [64, 512]                 [64, 256]                 (recursive)\n",
       "│    └─Linear: 2-7                       [64, 512]                 [64, 256]                 (recursive)\n",
       "===================================================================================================================\n",
       "Total params: 8,536,576\n",
       "Trainable params: 8,536,576\n",
       "Non-trainable params: 0\n",
       "Total mult-adds (Units.GIGABYTES): 207.06\n",
       "===================================================================================================================\n",
       "Input size (MB): 0.52\n",
       "Forward/backward pass size (MB): 537.40\n",
       "Params size (MB): 34.15\n",
       "Estimated Total Size (MB): 572.07\n",
       "==================================================================================================================="
      ]
     },
     "execution_count": 65,
     "metadata": {},
     "output_type": "execute_result"
    }
   ],
   "source": [
    "from torchinfo import summary\n",
    "summary(model=model, input_size=(64, 1024), dtypes=[torch.long], col_names=[\"input_size\", \"output_size\", \"num_params\"])"
   ]
  },
  {
   "cell_type": "code",
   "execution_count": null,
   "id": "378351de",
   "metadata": {},
   "outputs": [],
   "source": []
  },
  {
   "cell_type": "code",
   "execution_count": null,
   "metadata": {},
   "outputs": [],
   "source": []
  }
 ],
 "metadata": {
  "kernelspec": {
   "display_name": "silvercule",
   "language": "python",
   "name": "python3"
  },
  "language_info": {
   "codemirror_mode": {
    "name": "ipython",
    "version": 3
   },
   "file_extension": ".py",
   "mimetype": "text/x-python",
   "name": "python",
   "nbconvert_exporter": "python",
   "pygments_lexer": "ipython3",
   "version": "3.13.2"
  }
 },
 "nbformat": 4,
 "nbformat_minor": 5
}
