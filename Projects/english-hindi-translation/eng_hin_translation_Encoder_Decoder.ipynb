{
  "cells": [
    {
      "cell_type": "code",
      "execution_count": 64,
      "metadata": {
        "colab": {
          "base_uri": "https://localhost:8080/"
        },
        "id": "CzUxuTzakpWy",
        "outputId": "620ec523-40b7-4861-bf79-4cbbd6c680b5"
      },
      "outputs": [
        {
          "name": "stdout",
          "output_type": "stream",
          "text": [
            "Requirement already satisfied: datasets in /usr/local/lib/python3.11/dist-packages (3.6.0)\n",
            "Requirement already satisfied: emoji in /usr/local/lib/python3.11/dist-packages (2.14.1)\n",
            "Requirement already satisfied: sentencepiece in /usr/local/lib/python3.11/dist-packages (0.2.0)\n",
            "Requirement already satisfied: filelock in /usr/local/lib/python3.11/dist-packages (from datasets) (3.18.0)\n",
            "Requirement already satisfied: numpy>=1.17 in /usr/local/lib/python3.11/dist-packages (from datasets) (2.0.2)\n",
            "Requirement already satisfied: pyarrow>=15.0.0 in /usr/local/lib/python3.11/dist-packages (from datasets) (18.1.0)\n",
            "Requirement already satisfied: dill<0.3.9,>=0.3.0 in /usr/local/lib/python3.11/dist-packages (from datasets) (0.3.7)\n",
            "Requirement already satisfied: pandas in /usr/local/lib/python3.11/dist-packages (from datasets) (2.2.2)\n",
            "Requirement already satisfied: requests>=2.32.2 in /usr/local/lib/python3.11/dist-packages (from datasets) (2.32.3)\n",
            "Requirement already satisfied: tqdm>=4.66.3 in /usr/local/lib/python3.11/dist-packages (from datasets) (4.67.1)\n",
            "Requirement already satisfied: xxhash in /usr/local/lib/python3.11/dist-packages (from datasets) (3.5.0)\n",
            "Requirement already satisfied: multiprocess<0.70.17 in /usr/local/lib/python3.11/dist-packages (from datasets) (0.70.15)\n",
            "Requirement already satisfied: fsspec<=2025.3.0,>=2023.1.0 in /usr/local/lib/python3.11/dist-packages (from fsspec[http]<=2025.3.0,>=2023.1.0->datasets) (2025.3.0)\n",
            "Requirement already satisfied: huggingface-hub>=0.24.0 in /usr/local/lib/python3.11/dist-packages (from datasets) (0.32.4)\n",
            "Requirement already satisfied: packaging in /usr/local/lib/python3.11/dist-packages (from datasets) (24.2)\n",
            "Requirement already satisfied: pyyaml>=5.1 in /usr/local/lib/python3.11/dist-packages (from datasets) (6.0.2)\n",
            "Requirement already satisfied: aiohttp!=4.0.0a0,!=4.0.0a1 in /usr/local/lib/python3.11/dist-packages (from fsspec[http]<=2025.3.0,>=2023.1.0->datasets) (3.11.15)\n",
            "Requirement already satisfied: typing-extensions>=3.7.4.3 in /usr/local/lib/python3.11/dist-packages (from huggingface-hub>=0.24.0->datasets) (4.14.0)\n",
            "Requirement already satisfied: hf-xet<2.0.0,>=1.1.2 in /usr/local/lib/python3.11/dist-packages (from huggingface-hub>=0.24.0->datasets) (1.1.2)\n",
            "Requirement already satisfied: charset-normalizer<4,>=2 in /usr/local/lib/python3.11/dist-packages (from requests>=2.32.2->datasets) (3.4.2)\n",
            "Requirement already satisfied: idna<4,>=2.5 in /usr/local/lib/python3.11/dist-packages (from requests>=2.32.2->datasets) (3.10)\n",
            "Requirement already satisfied: urllib3<3,>=1.21.1 in /usr/local/lib/python3.11/dist-packages (from requests>=2.32.2->datasets) (2.4.0)\n",
            "Requirement already satisfied: certifi>=2017.4.17 in /usr/local/lib/python3.11/dist-packages (from requests>=2.32.2->datasets) (2025.4.26)\n",
            "Requirement already satisfied: python-dateutil>=2.8.2 in /usr/local/lib/python3.11/dist-packages (from pandas->datasets) (2.9.0.post0)\n",
            "Requirement already satisfied: pytz>=2020.1 in /usr/local/lib/python3.11/dist-packages (from pandas->datasets) (2025.2)\n",
            "Requirement already satisfied: tzdata>=2022.7 in /usr/local/lib/python3.11/dist-packages (from pandas->datasets) (2025.2)\n",
            "Requirement already satisfied: aiohappyeyeballs>=2.3.0 in /usr/local/lib/python3.11/dist-packages (from aiohttp!=4.0.0a0,!=4.0.0a1->fsspec[http]<=2025.3.0,>=2023.1.0->datasets) (2.6.1)\n",
            "Requirement already satisfied: aiosignal>=1.1.2 in /usr/local/lib/python3.11/dist-packages (from aiohttp!=4.0.0a0,!=4.0.0a1->fsspec[http]<=2025.3.0,>=2023.1.0->datasets) (1.3.2)\n",
            "Requirement already satisfied: attrs>=17.3.0 in /usr/local/lib/python3.11/dist-packages (from aiohttp!=4.0.0a0,!=4.0.0a1->fsspec[http]<=2025.3.0,>=2023.1.0->datasets) (25.3.0)\n",
            "Requirement already satisfied: frozenlist>=1.1.1 in /usr/local/lib/python3.11/dist-packages (from aiohttp!=4.0.0a0,!=4.0.0a1->fsspec[http]<=2025.3.0,>=2023.1.0->datasets) (1.6.0)\n",
            "Requirement already satisfied: multidict<7.0,>=4.5 in /usr/local/lib/python3.11/dist-packages (from aiohttp!=4.0.0a0,!=4.0.0a1->fsspec[http]<=2025.3.0,>=2023.1.0->datasets) (6.4.4)\n",
            "Requirement already satisfied: propcache>=0.2.0 in /usr/local/lib/python3.11/dist-packages (from aiohttp!=4.0.0a0,!=4.0.0a1->fsspec[http]<=2025.3.0,>=2023.1.0->datasets) (0.3.1)\n",
            "Requirement already satisfied: yarl<2.0,>=1.17.0 in /usr/local/lib/python3.11/dist-packages (from aiohttp!=4.0.0a0,!=4.0.0a1->fsspec[http]<=2025.3.0,>=2023.1.0->datasets) (1.20.0)\n",
            "Requirement already satisfied: six>=1.5 in /usr/local/lib/python3.11/dist-packages (from python-dateutil>=2.8.2->pandas->datasets) (1.17.0)\n"
          ]
        }
      ],
      "source": [
        "!pip install -U datasets emoji sentencepiece"
      ]
    },
    {
      "cell_type": "code",
      "execution_count": 120,
      "metadata": {
        "id": "aosPVh26kydY"
      },
      "outputs": [],
      "source": [
        "from datasets import load_dataset\n",
        "import re\n",
        "import html\n",
        "import emoji\n",
        "import sentencepiece as spm\n",
        "from torch.utils.data import Dataset, DataLoader\n",
        "\n",
        "data = load_dataset(\"cfilt/iitb-english-hindi\")\n",
        "text = data['train']['translation'][:80000]\n",
        "vocab_size = 8000\n",
        "\n",
        "en = [i['en'] for i in text]\n",
        "hi = [i['hi'] for i in text]\n",
        "\n",
        "def preprocess(sentence):\n",
        "    sentence = ' '.join(sentence.split())\n",
        "    sentence = html.unescape(sentence)\n",
        "    sentence = re.sub(r'<[^>]+>', '', sentence)\n",
        "    sentence = sentence.lower()\n",
        "    sentence = emoji.replace_emoji(sentence, replace='')\n",
        "    return sentence\n",
        "\n",
        "en = [preprocess(sent) for sent in en]\n",
        "hi = [preprocess(sent) for sent in hi]\n",
        "\n",
        "def list_to_txt(filename, list):\n",
        "    with open(filename, 'w') as f:\n",
        "        for i in list:\n",
        "            f.write(i + '\\n')\n",
        "\n",
        "list_to_txt(\"hindi_file.txt\", hi)\n",
        "list_to_txt(\"english_file.txt\", en)\n",
        "\n",
        "spm.SentencePieceTrainer.train(\n",
        "    input='english_file.txt',\n",
        "    model_prefix='english',\n",
        "    vocab_size=vocab_size,\n",
        "    model_type='bpe',\n",
        "    character_coverage=0.995,\n",
        "    pad_id=0,\n",
        "    unk_id=1,\n",
        "    bos_id=2,\n",
        "    eos_id=3,\n",
        "    normalization_rule_name='nmt_nfkc_cf'\n",
        ")\n",
        "\n",
        "spm.SentencePieceTrainer.train(\n",
        "    input='hindi_file.txt',\n",
        "    model_prefix='hindi',\n",
        "    vocab_size=vocab_size,\n",
        "    model_type='bpe',\n",
        "    character_coverage=0.999,\n",
        "    pad_id=0,\n",
        "    unk_id=1,\n",
        "    bos_id=2,\n",
        "    eos_id=3,\n",
        "    normalization_rule_name='nmt_nfkc_cf'\n",
        ")\n",
        "\n",
        "en_sp = spm.SentencePieceProcessor(model_file=\"english.model\")\n",
        "hi_sp = spm.SentencePieceProcessor(model_file=\"hindi.model\")\n",
        "\n",
        "class DatasetPreparation(Dataset):\n",
        "  def __init__(self, model_eng, model_hin, data) -> None:\n",
        "      super().__init__()\n",
        "      self.bpe_eng = spm.SentencePieceProcessor(model_file=model_eng)\n",
        "      self.bpe_hin = spm.SentencePieceProcessor(model_file=model_hin)\n",
        "      self.data = data\n",
        "\n",
        "  def __len__(self):\n",
        "      return len(self.data)\n",
        "\n",
        "  def __getitem__(self, index):\n",
        "      eng_sentence = self.data[index]['en']\n",
        "      hin_sentence = self.data[index]['hi']\n",
        "\n",
        "      enc_eng = self.bpe_eng.encode(eng_sentence, out_type=int)\n",
        "      enc_hi = self.bpe_hin.encode(hin_sentence, out_type=int)\n",
        "    #   enc_hi = [self.bpe_hin.bos_id()] + enc_hi + [self.bpe_hin.eos_id()]\n",
        "      decoder_inputs = [self.bpe_hin.bos_id()] + enc_hi\n",
        "      decoder_outputs = enc_hi + [self.bpe_hin.eos_id()]\n",
        "\n",
        "      return {\n",
        "          'input_ids': enc_eng,\n",
        "          'decoder_inputs': decoder_inputs,\n",
        "          'target_ids': decoder_outputs\n",
        "      }\n",
        "\n",
        "train_dataset = DatasetPreparation(model_eng=\"english.model\", model_hin=\"hindi.model\", data=text)\n",
        "test_dataset = DatasetPreparation(model_eng=\"english.model\", model_hin=\"hindi.model\", data=data['test']['translation'])\n",
        "\n",
        "import torch\n",
        "\n",
        "def collate_fn(batch):\n",
        "    input_ids = [item['input_ids'] for item in batch]\n",
        "    decoder_inputs = [item['decoder_inputs'] for item in batch]\n",
        "    target_ids = [item['target_ids'] for item in batch]\n",
        "\n",
        "    input_lengths = [len(x) for x in input_ids]\n",
        "    target_lengths = [len(x) for x in target_ids]\n",
        "\n",
        "    input_padded = torch.nn.utils.rnn.pad_sequence(\n",
        "        [torch.tensor(x) for x in input_ids], batch_first=True, padding_value=0\n",
        "    )\n",
        "\n",
        "    decoder_input_padded = torch.nn.utils.rnn.pad_sequence(\n",
        "        [torch.tensor(x) for x in decoder_inputs], batch_first=True, padding_value=0\n",
        "    )\n",
        "\n",
        "    output_padded = torch.nn.utils.rnn.pad_sequence(\n",
        "        [torch.tensor(x) for x in target_ids], batch_first=True, padding_value=0\n",
        "    )\n",
        "\n",
        "    return {\n",
        "        'input_ids': input_padded,\n",
        "        'decoder_inputs': decoder_input_padded,\n",
        "        'target_ids': output_padded,\n",
        "        'input_lengths': torch.Tensor(input_lengths),\n",
        "        'target_lengths': torch.Tensor(target_lengths)\n",
        "    }\n",
        "\n",
        "train_loader = DataLoader(\n",
        "    dataset=train_dataset,\n",
        "    batch_size=64,\n",
        "    shuffle=True,\n",
        "    collate_fn=collate_fn\n",
        ")\n",
        "\n",
        "test_loader = DataLoader(\n",
        "    dataset=test_dataset,\n",
        "    batch_size=64,\n",
        "    shuffle=True,\n",
        "    collate_fn=collate_fn\n",
        ")"
      ]
    },
    {
      "cell_type": "code",
      "execution_count": 121,
      "metadata": {
        "colab": {
          "base_uri": "https://localhost:8080/"
        },
        "id": "7Krttr79k2Ga",
        "outputId": "92d1376c-9c45-4ca6-9ae2-5796594b6b97"
      },
      "outputs": [
        {
          "data": {
            "text/plain": [
              "(EncoderDecoderAttention(\n",
              "   (encoder): Encoder(\n",
              "     (embedding): Embedding(8000, 512, padding_idx=0, max_norm=1)\n",
              "     (lstm_layers): LSTM(512, 512, num_layers=2, batch_first=True, dropout=0.3, bidirectional=True)\n",
              "     (embd_dropout): Dropout(p=0.3, inplace=False)\n",
              "   )\n",
              "   (linear): ModuleList(\n",
              "     (0-1): 2 x Linear(in_features=1024, out_features=512, bias=True)\n",
              "   )\n",
              "   (decoder): Decoder(\n",
              "     (embedding): Embedding(8000, 512, padding_idx=0, max_norm=1)\n",
              "     (lstm_layers): LSTM(512, 512, num_layers=2, batch_first=True, dropout=0.3)\n",
              "     (out): Linear(in_features=512, out_features=8000, bias=True)\n",
              "   )\n",
              " ),\n",
              " 28050240,\n",
              " 28050240,\n",
              " device(type='cuda', index=0))"
            ]
          },
          "execution_count": 121,
          "metadata": {},
          "output_type": "execute_result"
        }
      ],
      "source": [
        "import torch\n",
        "from torch import nn\n",
        "import pandas as pd\n",
        "\n",
        "class Encoder(nn.Module):\n",
        "    def __init__(self, vocab_size, embd_dropout, input_size, hidden_size, num_layers, dropout):\n",
        "        super().__init__()\n",
        "        self.embedding = nn.Embedding(num_embeddings=vocab_size, embedding_dim=input_size, padding_idx=0, max_norm=1)\n",
        "        self.lstm_layers = nn.LSTM(input_size=input_size, hidden_size=hidden_size, num_layers=num_layers, batch_first=True, dropout=dropout if num_layers>1 else 0, bidirectional=True)\n",
        "        self.embd_dropout = nn.Dropout(embd_dropout)\n",
        "\n",
        "    def forward(self, x: torch.Tensor) -> torch.Tensor:\n",
        "        embeddings = self.embedding(x)\n",
        "        embeddings = self.embd_dropout(embeddings)\n",
        "        output, (h_n, c_n) = self.lstm_layers(embeddings)\n",
        "        return output, h_n, c_n\n",
        "\n",
        "class Decoder(nn.Module):\n",
        "    def __init__(self, vocab_size, input_size, hidden_size, num_layers, dropout):\n",
        "        super().__init__()\n",
        "        self.embedding = nn.Embedding(num_embeddings=vocab_size, embedding_dim=input_size, padding_idx=0, max_norm=1)\n",
        "        self.lstm_layers = nn.LSTM(input_size=input_size, hidden_size=hidden_size, num_layers=num_layers, batch_first=True, dropout=dropout if num_layers > 1 else 0, bidirectional=False)\n",
        "        self.out = nn.Linear(in_features=hidden_size, out_features=vocab_size)\n",
        "\n",
        "    def forward(self, tgt, hidden):\n",
        "        x = self.embedding(tgt)\n",
        "\n",
        "        output, (h, c) = self.lstm_layers(x, hidden)\n",
        "        output = self.out(output)\n",
        "        return output, h, c\n",
        "\n",
        "class EncoderDecoderAttention(nn.Module):\n",
        "    def __init__(self, vocab_size, embd_dropout, input_size, hidden_size, num_layers, dropout):\n",
        "        super().__init__()\n",
        "        self.encoder = Encoder(vocab_size=vocab_size, embd_dropout=embd_dropout, input_size=input_size, hidden_size=hidden_size, num_layers=num_layers, dropout=dropout)\n",
        "        self.linear = nn.ModuleList([\n",
        "            nn.Linear(in_features=hidden_size*2, out_features=hidden_size) for i in range(num_layers)\n",
        "        ])\n",
        "\n",
        "        self.decoder = Decoder(vocab_size=vocab_size, input_size=input_size, hidden_size=hidden_size, num_layers=num_layers, dropout=dropout)\n",
        "\n",
        "    def combine_bidirectional_outputs(self, matrix, linear):\n",
        "        m_new = []\n",
        "\n",
        "        for i in range(len(matrix)//2):\n",
        "            m_first = matrix[2*i]\n",
        "            m_second = matrix[2*i+1]\n",
        "            m_n_new = torch.cat([m_first, m_second], dim=-1)\n",
        "            m_n_new = torch.tanh(linear[i](m_n_new))\n",
        "            m_new.append(m_n_new)\n",
        "        m_new = torch.stack(m_new)\n",
        "\n",
        "        return m_new\n",
        "\n",
        "    # Assuing teacher forcing in trainig, forward is coded for teacher forcing training\n",
        "    # x shape -> (batch, seq_length)\n",
        "    def forward(self, x: torch.Tensor, tgt: torch.Tensor) -> torch.Tensor:\n",
        "        \"\"\"\n",
        "        x: (batch, seq_len)\n",
        "        tgt: (batch, seq_len, input_size)\n",
        "        \"\"\"\n",
        "        output, h_n, c_n = self.encoder(x)\n",
        "\n",
        "        # shapes\n",
        "        # output: (batch, seq_len, D*hidden_size)\n",
        "        # h_n, c_n: (D*num_layers, batch, hidden_size) -> changed to (num_layers, batch, hidden_size)\n",
        "\n",
        "        h_new = self.combine_bidirectional_outputs(matrix=h_n, linear=self.linear)\n",
        "        c_new = self.combine_bidirectional_outputs(matrix=c_n, linear=self.linear)\n",
        "\n",
        "        output, h, c = self.decoder(tgt, (h_new, c_new))\n",
        "        return output\n",
        "\n",
        "    def inference(self, x:torch.Tensor, max_length=50, start_token=2, end_token=3) -> torch.Tensor:\n",
        "        \"\"\"\n",
        "        x: (batch, input_size), 1 because 1 word of the sequence at a time\n",
        "        \"\"\"\n",
        "        encoder_output, h_n, c_n = self.encoder(x)\n",
        "\n",
        "        h_new = self.combine_bidirectional_outputs(matrix=h_n, linear=self.linear)\n",
        "        c_new = self.combine_bidirectional_outputs(matrix=c_n, linear=self.linear)\n",
        "\n",
        "        # current_vector = torch.unsqueeze(x, 1) # convert x to (batch, 1, input_size)\n",
        "        batch_size = x.shape[0]\n",
        "        current_vector = torch.full(size=(batch_size, 1), fill_value=start_token, device=device)\n",
        "        generations = []\n",
        "\n",
        "        for _ in range(max_length):\n",
        "            output_vector, h_new, c_new = self.decoder(current_vector, (h_new, c_new))\n",
        "            current_vector = output_vector.argmax(dim=-1)\n",
        "            generations.append(current_vector)\n",
        "            if (current_vector == end_token).all():\n",
        "              break\n",
        "\n",
        "        return torch.cat(generations, dim=1)\n",
        "\n",
        "device = \"cuda\" if torch.cuda.is_available() else \"mps\" if torch.backends.mps.is_available() else \"cpu\"\n",
        "model = EncoderDecoderAttention(vocab_size=vocab_size, embd_dropout=0.3, input_size=512, hidden_size=512, num_layers=2, dropout=0.3)\n",
        "model.to(device=device)\n",
        "\n",
        "model, sum(torch.numel(i) for i in model.parameters() if i.requires_grad), sum(torch.numel(i) for i in model.parameters()), next(model.parameters()).device"
      ]
    },
    {
      "cell_type": "code",
      "execution_count": 122,
      "metadata": {
        "colab": {
          "base_uri": "https://localhost:8080/"
        },
        "id": "yw0PcL1Uk6Ro",
        "outputId": "447dfe2b-c3e9-4b07-ddda-a90c71c46b7a"
      },
      "outputs": [
        {
          "data": {
            "text/plain": [
              "(CrossEntropyLoss(),\n",
              " AdamW (\n",
              " Parameter Group 0\n",
              "     amsgrad: False\n",
              "     betas: (0.9, 0.999)\n",
              "     capturable: False\n",
              "     differentiable: False\n",
              "     eps: 1e-08\n",
              "     foreach: None\n",
              "     fused: None\n",
              "     initial_lr: 0.001\n",
              "     lr: 0.001\n",
              "     maximize: False\n",
              "     weight_decay: 1e-05\n",
              " ),\n",
              " <torch.optim.lr_scheduler.CosineAnnealingWarmRestarts at 0x7e4c50019050>)"
            ]
          },
          "execution_count": 122,
          "metadata": {},
          "output_type": "execute_result"
        }
      ],
      "source": [
        "loss_fn = nn.CrossEntropyLoss(ignore_index=0)\n",
        "optimizer = torch.optim.AdamW(params=model.parameters(), lr=1e-3, weight_decay=1e-5)\n",
        "scheduler = torch.optim.lr_scheduler.CosineAnnealingWarmRestarts(optimizer=optimizer, T_0=8, eta_min=3e-4)\n",
        "\n",
        "loss_fn, optimizer, scheduler"
      ]
    },
    {
      "cell_type": "code",
      "execution_count": 123,
      "metadata": {
        "colab": {
          "base_uri": "https://localhost:8080/"
        },
        "id": "tWFv9f3GGwXH",
        "outputId": "286184a4-fa04-4153-a83a-eacc3ca929ea"
      },
      "outputs": [
        {
          "data": {
            "text/plain": [
              "1250"
            ]
          },
          "execution_count": 123,
          "metadata": {},
          "output_type": "execute_result"
        }
      ],
      "source": [
        "len(train_loader)"
      ]
    },
    {
      "cell_type": "code",
      "execution_count": 124,
      "metadata": {
        "colab": {
          "base_uri": "https://localhost:8080/"
        },
        "id": "nrdEmaKFk87Y",
        "outputId": "8568243c-7052-4434-f2d5-95c736a147d7"
      },
      "outputs": [
        {
          "name": "stderr",
          "output_type": "stream",
          "text": [
            "<ipython-input-124-33dcabb206d6>:39: FutureWarning: `torch.nn.utils.clip_grad_norm` is now deprecated in favor of `torch.nn.utils.clip_grad_norm_`.\n",
            "  torch.nn.utils.clip_grad_norm(parameters=model.parameters(), max_norm=1.0)\n"
          ]
        },
        {
          "name": "stdout",
          "output_type": "stream",
          "text": [
            "0: 8.99112606048584 0.0\n",
            "200: 1233.3314700126648 30.775267395031047\n",
            "400: 2296.728467941284 70.85655749086122\n",
            "600: 3250.347128868103 121.85462988009144\n",
            "800: 4127.976053714752 180.32000272678346\n",
            "1000: 4932.268246650696 246.22268960055953\n",
            "1200: 5685.316935300827 317.54265072917065\n",
            "Epoch: 0, train loss: 4.690918356323242, train acc: 0.2684170954187079, test loss: 8.178641748428344, test acc: 0.04904198472991775\n",
            "Bleu: 0.00017608951259162476\n",
            "0: 3.1448638439178467 0.45363408521303256\n",
            "200: 689.8449373245239 79.12251343275351\n",
            "400: 1350.0421168804169 162.1013659540379\n",
            "600: 1976.574205160141 249.61022231985626\n",
            "800: 2570.3735568523407 342.10778630773353\n",
            "1000: 3140.2229902744293 438.67615351013114\n",
            "1200: 3691.0627748966217 538.1861591601763\n",
            "Epoch: 1, train loss: 3.060511735916138, train acc: 0.4502677134926383, test loss: 8.68565092086792, test acc: 0.04891875071857506\n",
            "Bleu: 1.0222455926016836e-05\n",
            "0: 2.5922858715057373 0.5265486725663717\n",
            "200: 508.2549068927765 107.3785717624596\n",
            "400: 995.329747915268 217.78974183153997\n",
            "600: 1465.5090126991272 331.2489678433907\n",
            "800: 1931.1019945144653 446.22401283932294\n",
            "1000: 2389.716107726097 562.1947425503301\n",
            "1200: 2835.1179922819138 680.8650202245216\n",
            "Epoch: 2, train loss: 2.355443161678314, train acc: 0.5678178390793787, test loss: 9.20534827709198, test acc: 0.04644506735099496\n",
            "Bleu: 1.3072794956779074e-05\n",
            "0: 2.5606637001037598 0.547085201793722\n",
            "200: 411.8751777410507 125.79588556968844\n",
            "400: 818.0136989355087 251.08360892563223\n",
            "600: 1213.8616049289703 379.23697174389133\n",
            "800: 1611.1858921051025 506.52111296447225\n",
            "1000: 1999.5584087371826 635.7546841463384\n",
            "1200: 2387.0075730085373 764.9282900575679\n",
            "Epoch: 3, train loss: 1.9853373534202576, train acc: 0.6373293204690765, test loss: 9.611963653564453, test acc: 0.04725977888402011\n",
            "Bleu: 0.00042330175309184995\n",
            "0: 2.312040328979492 0.5590551181102362\n",
            "200: 363.4667646884918 134.82488170891278\n",
            "400: 727.7723189592361 268.0754575019296\n",
            "600: 1084.2522987127304 402.7226099351551\n",
            "800: 1441.476168870926 537.0748304902008\n",
            "1000: 1793.0642125606537 672.5871345170716\n",
            "1200: 2142.5786801576614 808.1665315618342\n",
            "Epoch: 4, train loss: 1.7815158906936646, train acc: 0.6733491253985674, test loss: 10.057514333724976, test acc: 0.04545184546829498\n",
            "Bleu: 3.0492143373186273e-06\n",
            "0: 1.7934794425964355 0.672\n",
            "200: 332.942000746727 139.89205887723497\n",
            "400: 665.7471615076065 278.48737111551196\n",
            "600: 1000.7297911643982 416.7556913730803\n",
            "800: 1340.0993601083755 554.3332182014284\n",
            "1000: 1669.8330351114273 693.4797772771127\n",
            "1200: 2001.6940935850143 832.0786519774924\n",
            "Epoch: 5, train loss: 1.6657135558128358, train acc: 0.693009243610788, test loss: 10.317729496955872, test acc: 0.04492328438160125\n",
            "Bleu: 3.0492143373186273e-06\n",
            "0: 1.6669154167175293 0.7017543859649122\n",
            "200: 323.5777955055237 141.00231243776977\n",
            "400: 641.3777391910553 281.758429213754\n",
            "600: 960.5954089164734 422.50979834234704\n",
            "800: 1281.166834115982 562.8473599427751\n",
            "1000: 1595.2461304664612 704.3030769691907\n",
            "1200: 1915.2644950151443 844.5280045563219\n",
            "Epoch: 6, train loss: 1.5946521686553956, train acc: 0.7031692061448445, test loss: 10.618093276023865, test acc: 0.04400257111751077\n",
            "Bleu: 0.00041534766914887264\n",
            "0: 1.9482250213623047 0.6207951070336392\n",
            "200: 314.6604803800583 142.12023488105498\n",
            "400: 625.1004273295403 284.15414228208135\n",
            "600: 934.1171820759773 426.28510230961007\n",
            "800: 1241.7994371056557 568.4402268825038\n",
            "1000: 1555.2672384381294 709.5041354488266\n",
            "1200: 1865.9322001338005 851.2518290655032\n",
            "Epoch: 7, train loss: 1.5541864389896394, train acc: 0.7086779948088731, test loss: 10.824095010757446, test acc: 0.042458745405021446\n",
            "Bleu: 1.3072794956779074e-05\n",
            "0: 1.5269887447357178 0.7104072398190046\n",
            "200: 324.06413757801056 140.2422703770775\n",
            "400: 669.5128793716431 274.60004285303324\n",
            "600: 1025.3734966516495 406.77945617258183\n",
            "800: 1372.057116985321 541.0066307556884\n",
            "1000: 1719.7056827545166 675.5795485999616\n",
            "1200: 2055.641503214836 812.0822093945982\n",
            "Epoch: 8, train loss: 1.710520852279663, train acc: 0.67630863066741, test loss: 11.270902347564697, test acc: 0.040916124704131286\n",
            "Bleu: 0.000724983182466342\n",
            "0: 1.8137340545654297 0.6866840731070496\n",
            "200: 327.2114713191986 139.50526251024584\n",
            "400: 653.5131282806396 278.1560754307554\n",
            "600: 976.7447934150696 417.2524545575758\n",
            "800: 1300.8331404924393 556.1444398944384\n",
            "1000: 1630.1713863611221 694.3647607079847\n",
            "1200: 1953.8491252660751 833.300444589535\n",
            "Epoch: 9, train loss: 1.6254902550697328, train acc: 0.6940676673865858, test loss: 11.628739881515504, test acc: 0.041843073823266706\n",
            "Bleu: 0.0007476475214264814\n",
            "0: 1.4975897073745728 0.7045454545454546\n",
            "200: 316.7929879426956 141.1942379782883\n",
            "400: 631.9864556789398 281.6914350662785\n",
            "600: 947.8939454555511 422.04226727620596\n",
            "800: 1264.7688866853714 561.948109498164\n",
            "1000: 1583.4069859981537 701.6902611829589\n",
            "1200: 1895.9349567890167 842.1428710869833\n",
            "Epoch: 10, train loss: 1.5796186825752259, train acc: 0.701030618107001, test loss: 11.997579312324524, test acc: 0.04382084230560358\n",
            "Bleu: 1.2998526274591375e-05\n",
            "0: 1.4139163494110107 0.7445414847161572\n",
            "200: 309.38548374176025 142.27297136182725\n",
            "400: 614.5581827163696 284.2738781947667\n",
            "600: 923.1558279395103 425.62003164616624\n",
            "800: 1230.5115134119987 567.2044757643198\n",
            "1000: 1542.559868633747 707.8105851148572\n",
            "1200: 1853.1474478840828 848.6490021026992\n",
            "Epoch: 11, train loss: 1.5433215481281282, train acc: 0.7066499132568986, test loss: 12.068564915657044, test acc: 0.04042400135647951\n",
            "Bleu: 1.3072794956779074e-05\n",
            "0: 1.4083645343780518 0.7297872340425532\n",
            "200: 304.6305533647537 143.02051611247092\n",
            "400: 608.0474607944489 285.05725031472645\n",
            "600: 906.5150718092918 428.101781996916\n",
            "800: 1209.1865085363388 570.3070498216493\n",
            "1000: 1511.0176076889038 712.2618194763405\n",
            "1200: 1815.3994158506393 854.0480714496535\n",
            "Epoch: 12, train loss: 1.5096613484382628, train acc: 0.7114421438435449, test loss: 12.424954605102538, test acc: 0.04197461564392787\n",
            "Bleu: 1.3072794956779074e-05\n",
            "0: 1.6732079982757568 0.6720867208672087\n",
            "200: 295.720811188221 144.11208061247623\n",
            "400: 591.1599777340889 287.6475984501166\n",
            "600: 886.8723103404045 430.8229306828927\n",
            "800: 1184.3920884132385 573.5467237156422\n",
            "1000: 1478.1803312301636 717.1753264803177\n",
            "1200: 1776.880833864212 859.6561910304068\n",
            "Epoch: 13, train loss: 1.4781937373161316, train acc: 0.715907749005944, test loss: 12.604651403427123, test acc: 0.0433651026170661\n",
            "Bleu: 0.00018705679029424298\n",
            "0: 1.484499216079712 0.7189873417721518\n",
            "200: 284.4597727060318 144.74105136965096\n",
            "400: 562.9192886948586 289.2679076773876\n",
            "600: 837.570070207119 434.43341176544044\n",
            "800: 1115.4569265842438 578.621237939151\n",
            "1000: 1390.3279295563698 723.0812535608255\n",
            "1200: 1661.2221004962921 868.3268764471987\n",
            "Epoch: 14, train loss: 1.3808245418548584, train acc: 0.7233174811481295, test loss: 12.785032749176025, test acc: 0.041839666310489874\n",
            "Bleu: 0.0005990049330362435\n",
            "0: 1.255405068397522 0.7597254004576659\n",
            "200: 260.77106589078903 147.55254432599443\n",
            "400: 523.6622375249863 293.6104814287192\n",
            "600: 778.2733687162399 441.2377055900459\n",
            "800: 1034.1483960151672 588.2477941372917\n",
            "1000: 1286.5705308914185 735.5650705910971\n",
            "1200: 1531.53999209404 884.4746225623246\n",
            "Epoch: 15, train loss: 1.2735976059436798, train acc: 0.7366629334241606, test loss: 12.890216064453124, test acc: 0.04157561331032119\n",
            "Bleu: 0.0006922225891277053\n",
            "0: 1.2422488927841187 0.7254901960784313\n",
            "200: 267.3032536506653 144.97975724286667\n",
            "400: 555.1254395246506 283.42948257867954\n",
            "600: 836.1284912824631 423.30670722074785\n",
            "800: 1102.3990714550018 566.3727291044218\n",
            "1000: 1363.9430267810822 709.8422510751691\n",
            "1200: 1612.7941034436226 856.116827771315\n",
            "Epoch: 16, train loss: 1.338581579351425, train acc: 0.7136566925811848, test loss: 12.981059885025024, test acc: 0.04077697213378403\n",
            "Bleu: 0.0007849047263124605\n",
            "0: 1.2090141773223877 0.745679012345679\n",
            "200: 231.67399430274963 150.01927884154927\n",
            "400: 462.7046593427658 299.23828409655414\n",
            "600: 692.9277544021606 448.4115125724967\n",
            "800: 913.3972870707512 599.0664004719114\n",
            "1000: 1129.4870341420174 750.8068995530505\n",
            "1200: 1342.251972913742 902.827519878346\n",
            "Epoch: 17, train loss: 1.1140966060638429, train acc: 0.7524498349355648, test loss: 13.324333834648133, test acc: 0.041354085266230085\n",
            "Bleu: 0.0007137552958321484\n",
            "0: 1.1088260412216187 0.7364532019704434\n",
            "200: 197.3926164507866 155.81337146826908\n",
            "400: 391.44937002658844 310.7675507271019\n",
            "600: 580.281201839447 467.0785550639286\n",
            "800: 764.5282098054886 624.3967135447306\n",
            "1000: 945.5752888917923 782.1186340825967\n",
            "1200: 1121.1502230763435 940.4995084935965\n",
            "Epoch: 18, train loss: 0.9313281271457672, train acc: 0.7835170144039277, test loss: 13.648954701423644, test acc: 0.03925000216474879\n",
            "Bleu: 0.0007042165735762435\n",
            "0: 0.9116466045379639 0.780281690140845\n",
            "200: 162.91256600618362 162.01903824305285\n",
            "400: 317.90871626138687 324.8823762169213\n",
            "600: 471.8418887257576 487.6895849199881\n",
            "800: 621.0356559455395 652.0311491822937\n",
            "1000: 767.0756262242794 816.7505952369809\n",
            "1200: 912.090963602066 981.7791796652199\n",
            "Epoch: 19, train loss: 0.7572361993789672, train acc: 0.8178360836005019, test loss: 13.880980014801025, test acc: 0.037953282290958346\n",
            "Bleu: 0.0007601396486356892\n"
          ]
        }
      ],
      "source": [
        "from nltk.translate.bleu_score import sentence_bleu, SmoothingFunction\n",
        "\n",
        "epochs = 20\n",
        "epoch_train_loss = []\n",
        "epoch_train_acc = []\n",
        "\n",
        "epoch_test_loss = []\n",
        "epoch_test_acc = []\n",
        "\n",
        "bleus = []\n",
        "\n",
        "def calculate_bleu(preds, target, tokenizer):\n",
        "  score = 0\n",
        "  for line in range(len(preds)):\n",
        "    pred_sentence = tokenizer.decode(torch.tensor([i for i in preds[line] if i>3]).tolist())\n",
        "    tgt_sentence = tokenizer.decode(torch.tensor([i for i in target[line] if i>3]).tolist())\n",
        "    score += sentence_bleu(pred_sentence.split(), tgt_sentence.split(), smoothing_function=SmoothingFunction().method4)\n",
        "  return score/len(preds)\n",
        "\n",
        "def calculate_accuracy(preds, targets):\n",
        "  masks = targets != 0\n",
        "  corrects = (preds == targets) & masks\n",
        "  return corrects.sum().item() / masks.sum().item()\n",
        "\n",
        "for epoch in range(epochs):\n",
        "    model.train()\n",
        "    train_loss, train_acc = 0, 0\n",
        "    for batch, X in enumerate(train_loader):\n",
        "        x = X['input_ids'].to(device=device)\n",
        "\n",
        "        decoder_inputs = X['decoder_inputs'].to(device=device)\n",
        "        decoder_outputs = X['target_ids'].to(device=device)\n",
        "\n",
        "        optimizer.zero_grad()\n",
        "        outputs = model(x, decoder_inputs)\n",
        "        loss = loss_fn(outputs.view(-1, vocab_size), decoder_outputs.view(-1))\n",
        "\n",
        "        loss.backward()\n",
        "        torch.nn.utils.clip_grad_norm(parameters=model.parameters(), max_norm=1.0)\n",
        "        optimizer.step()\n",
        "\n",
        "        acc = calculate_accuracy(outputs.argmax(-1), decoder_outputs)\n",
        "\n",
        "        train_loss += loss.item()\n",
        "        train_acc += acc\n",
        "\n",
        "        if batch%200==0:\n",
        "          print(f\"{batch}: {train_loss} {train_acc}\")\n",
        "\n",
        "    epoch_train_loss.append(train_loss/len(train_loader))\n",
        "    epoch_train_acc.append(train_acc/len(train_loader))\n",
        "\n",
        "    test_loss, test_acc = 0, 0\n",
        "    model.eval()\n",
        "    with torch.no_grad():\n",
        "        for X in test_loader:\n",
        "            x = X['input_ids'].to(device=device)\n",
        "            decoder_inputs = X['decoder_inputs'].to(device=device)\n",
        "            decoder_targets = X['target_ids'].to(device=device)\n",
        "\n",
        "            preds = model(x=x, tgt=decoder_inputs)\n",
        "            loss = loss_fn(preds.view(-1, vocab_size), decoder_targets.view(-1))\n",
        "            acc = calculate_accuracy(preds.argmax(-1), decoder_targets)\n",
        "\n",
        "            test_loss += loss.item()\n",
        "            test_acc += acc\n",
        "\n",
        "        epoch_test_loss.append(test_loss/len(test_loader))\n",
        "        epoch_test_acc.append(test_acc/len(test_loader))\n",
        "    scheduler.step()\n",
        "\n",
        "    # Calculating blue score of predictions after each epoch\n",
        "    with torch.no_grad():\n",
        "      bleu = 0\n",
        "      for X in test_loader:\n",
        "        x = X['input_ids'].to(device=device)\n",
        "        preds = model.inference(x=x)\n",
        "        bleu_score = calculate_bleu(preds, X['target_ids'], tokenizer=hi_sp)\n",
        "        bleu += bleu_score\n",
        "      bleu /= len(test_loader)\n",
        "    bleus.append(bleu)\n",
        "\n",
        "    print(f\"Epoch: {epoch}, train loss: {epoch_train_loss[-1]}, train acc: {epoch_train_acc[-1]}, test loss: {epoch_test_loss[-1]}, test acc: {epoch_test_acc[-1]}\")\n",
        "    print(f\"Bleu: {bleu}\")"
      ]
    },
    {
      "cell_type": "code",
      "execution_count": 125,
      "metadata": {
        "colab": {
          "base_uri": "https://localhost:8080/",
          "height": 448
        },
        "id": "2kahJjAfJ1Wp",
        "outputId": "2e6a6dd4-c40d-4930-ea4f-e7c8986adf7e"
      },
      "outputs": [
        {
          "data": {
            "text/plain": [
              "[<matplotlib.lines.Line2D at 0x7e4c500d6290>]"
            ]
          },
          "execution_count": 125,
          "metadata": {},
          "output_type": "execute_result"
        },
        {
          "data": {
            "image/png": "[encoded data removed]",
            "text/plain": [
              "<Figure size 640x480 with 1 Axes>"
            ]
          },
          "metadata": {},
          "output_type": "display_data"
        }
      ],
      "source": [
        "import matplotlib.pyplot as plt\n",
        "\n",
        "plt.plot(bleus)"
      ]
    },
    {
      "cell_type": "code",
      "execution_count": 126,
      "metadata": {
        "colab": {
          "base_uri": "https://localhost:8080/",
          "height": 448
        },
        "id": "pbR0R4WoOMPJ",
        "outputId": "025095f5-247a-4147-8283-f3e7d92967bc"
      },
      "outputs": [
        {
          "data": {
            "text/plain": [
              "[<matplotlib.lines.Line2D at 0x7e4d28c466d0>]"
            ]
          },
          "execution_count": 126,
          "metadata": {},
          "output_type": "execute_result"
        },
        {
          "data": {
            "image/png": "[encoded data removed]",
            "text/plain": [
              "<Figure size 640x480 with 1 Axes>"
            ]
          },
          "metadata": {},
          "output_type": "display_data"
        }
      ],
      "source": [
        "plt.plot(epoch_train_acc)"
      ]
    },
    {
      "cell_type": "code",
      "execution_count": 127,
      "metadata": {
        "colab": {
          "base_uri": "https://localhost:8080/",
          "height": 448
        },
        "id": "kQSKBea2OXFf",
        "outputId": "42b7e136-5325-4326-aae4-b5284cb3801c"
      },
      "outputs": [
        {
          "data": {
            "text/plain": [
              "[<matplotlib.lines.Line2D at 0x7e4d41263890>]"
            ]
          },
          "execution_count": 127,
          "metadata": {},
          "output_type": "execute_result"
        },
        {
          "data": {
            "image/png": "[encoded data removed]",
            "text/plain": [
              "<Figure size 640x480 with 1 Axes>"
            ]
          },
          "metadata": {},
          "output_type": "display_data"
        }
      ],
      "source": [
        "plt.plot(epoch_test_acc)\n"
      ]
    },
    {
      "cell_type": "code",
      "execution_count": 128,
      "metadata": {
        "colab": {
          "base_uri": "https://localhost:8080/",
          "height": 448
        },
        "id": "W9rjM1jTOZM5",
        "outputId": "01436626-2cd9-4217-b306-099d9105dfa1"
      },
      "outputs": [
        {
          "data": {
            "text/plain": [
              "[<matplotlib.lines.Line2D at 0x7e4c51a71b10>]"
            ]
          },
          "execution_count": 128,
          "metadata": {},
          "output_type": "execute_result"
        },
        {
          "data": {
            "image/png": "[encoded data removed]",
            "text/plain": [
              "<Figure size 640x480 with 1 Axes>"
            ]
          },
          "metadata": {},
          "output_type": "display_data"
        }
      ],
      "source": [
        "plt.plot(epoch_test_loss)"
      ]
    },
    {
      "cell_type": "code",
      "execution_count": 129,
      "metadata": {
        "colab": {
          "base_uri": "https://localhost:8080/",
          "height": 448
        },
        "id": "gGzVTmxlObBe",
        "outputId": "ae742f04-652b-4082-83cb-9bd802508d4c"
      },
      "outputs": [
        {
          "data": {
            "text/plain": [
              "[<matplotlib.lines.Line2D at 0x7e4c51a9b950>]"
            ]
          },
          "execution_count": 129,
          "metadata": {},
          "output_type": "execute_result"
        },
        {
          "data": {
            "image/png": "[encoded data removed]",
            "text/plain": [
              "<Figure size 640x480 with 1 Axes>"
            ]
          },
          "metadata": {},
          "output_type": "display_data"
        }
      ],
      "source": [
        "plt.plot(epoch_train_loss)"
      ]
    },
    {
      "cell_type": "code",
      "execution_count": 130,
      "metadata": {
        "id": "OwTNAIPJHrA-"
      },
      "outputs": [],
      "source": [
        "model.eval()\n",
        "with torch.no_grad():\n",
        "  for X in test_loader:\n",
        "    x = X['input_ids'].to(device=device)\n",
        "    actuals = X['target_ids']\n",
        "    preds = model.inference(x=x)\n",
        "    break"
      ]
    },
    {
      "cell_type": "code",
      "execution_count": 131,
      "metadata": {
        "colab": {
          "base_uri": "https://localhost:8080/"
        },
        "id": "ZwEly6xtNjD8",
        "outputId": "3abdfe1b-9158-4ac4-eecc-b5e67bfcf65e"
      },
      "outputs": [
        {
          "data": {
            "text/plain": [
              "['clutter बैकएंड आरंभ करने में विफल. के साथ संपर्क के साथ हस्ताक्षर होने की फ़ंद्क लेाक संदेशक भरें/कालीस्रेंस\", \"कृप्ति\", \"म- ⁇ \", \"string\", \"string\",',\n",
              " 'यह डिजिटल रूप से गुप्त संदेश का हिस्सा है आप इस रूप से डाउनलोड और फिर डाउनलोड करते हैं. अधिक आप एक से अधिक स्वचालित रूप से बनाई गई हैं अपने आप बाद से अधिक या और नहीं रहेंगे. नहीं, या दाखिल करें',\n",
              " 'एक नया प्रोजेक्ट बनाएं जोड़ें ऊपर प्रयोक्ता प्रबंधक है नहीं अधिष्ठापित करें. पर सेट करें. संभव है कि कोई आपकी गोपनीय जानकारी, व दोनों की संस्करण. 245 टनेलिंग का प्रयोग करें. का उपयोग करेगा यदि में प्रयोग का',\n",
              " 'यह डिजिटल रूप से गुप्त संदेश का हिस्सा है आप इस रूप से डाउनलोड और फिर डाउनलोड और और बिना और और फोन पर जुड़े हुए नहीं प्रकाशित चाहते हैं. \"me.\" और नया कनेक्शन को हटाकर चैट रूम से जुड़ने के लिए',\n",
              " 'gl पिक्सेल उद्धरण अक्षम करें को दिखाएँ. मान के लिए 0 पर सेट करें. पर मान यह अधिक पृष्ठ के लिए 2 2-पर्षित पर अक्षम करें./बैसिका का प्रयोग आपके \"त्र नहीं पैदाने']"
            ]
          },
          "execution_count": 131,
          "metadata": {},
          "output_type": "execute_result"
        }
      ],
      "source": [
        "[hi_sp.decode(i.tolist()) for i in preds[:5]]"
      ]
    },
    {
      "cell_type": "code",
      "execution_count": 137,
      "metadata": {
        "colab": {
          "base_uri": "https://localhost:8080/",
          "height": 53
        },
        "id": "5Lqi30JvNquY",
        "outputId": "ba01e990-2273-4ab8-b533-1d617001e425"
      },
      "outputs": [
        {
          "data": {
            "application/vnd.google.colaboratory.intrinsic+json": {
              "type": "string"
            },
            "text/plain": [
              "'mkisofs का संस्करण समर्थित नहीं है anjuta को? को?ने पर चुनेंः को फिर से डाउनलोड करें संभव है. संदेशः या निर्देशिका सक्षम करें. का प्रयोग करें यदि आप इस नाम को iso9660 मानक के'"
            ]
          },
          "execution_count": 137,
          "metadata": {},
          "output_type": "execute_result"
        }
      ],
      "source": [
        "hi_sp.decode(preds[5].tolist())"
      ]
    },
    {
      "cell_type": "code",
      "execution_count": 136,
      "metadata": {
        "colab": {
          "base_uri": "https://localhost:8080/",
          "height": 35
        },
        "id": "XhfxGuMKOCBm",
        "outputId": "d93ad721-fc5b-436b-f54f-95476b7d69a3"
      },
      "outputs": [
        {
          "data": {
            "application/vnd.google.colaboratory.intrinsic+json": {
              "type": "string"
            },
            "text/plain": [
              "'इस सप्ताह रेटिंग एजेन्सी, स्टैन्डर्ड्स एंज पुअर्स ने मुख्यतः बढ़ते हुए बंधक (मोर्टगेज) के कारण बढ़ते हुए घरेलू लाभ को, एशियाई बैंकों की  ⁇ णपात्रता के लिए जोखिम कारक बताया ⁇ '"
            ]
          },
          "execution_count": 136,
          "metadata": {},
          "output_type": "execute_result"
        }
      ],
      "source": [
        "hi_sp.decode(actuals[5].tolist())"
      ]
    },
    {
      "cell_type": "markdown",
      "metadata": {
        "id": "nc3jzIWAP1x8"
      },
      "source": [
        "Not a good model, so we'll try attention next!"
      ]
    },
    {
      "cell_type": "code",
      "execution_count": null,
      "metadata": {
        "id": "MAHgtAVmVxDu"
      },
      "outputs": [],
      "source": []
    },
    {
      "cell_type": "code",
      "execution_count": null,
      "metadata": {
        "id": "nYmBEe0DVyCP"
      },
      "outputs": [],
      "source": []
    }
  ],
  "metadata": {
    "accelerator": "GPU",
    "colab": {
      "gpuType": "T4",
      "provenance": []
    },
    "kernelspec": {
      "display_name": "Python 3",
      "name": "python3"
    },
    "language_info": {
      "name": "python"
    }
  },
  "nbformat": 4,
  "nbformat_minor": 0
}
