{
  "cells": [
    {
      "cell_type": "code",
      "execution_count": 1,
      "metadata": {
        "colab": {
          "base_uri": "https://localhost:8080/"
        },
        "id": "CzUxuTzakpWy",
        "outputId": "f9cf32ab-8b79-4777-b063-0884d08cf5cf"
      },
      "outputs": [
        {
          "output_type": "stream",
          "name": "stdout",
          "text": [
            "Requirement already satisfied: datasets in /usr/local/lib/python3.11/dist-packages (3.6.0)\n",
            "Requirement already satisfied: emoji in /usr/local/lib/python3.11/dist-packages (2.14.1)\n",
            "Requirement already satisfied: sentencepiece in /usr/local/lib/python3.11/dist-packages (0.2.0)\n",
            "Requirement already satisfied: filelock in /usr/local/lib/python3.11/dist-packages (from datasets) (3.18.0)\n",
            "Requirement already satisfied: numpy>=1.17 in /usr/local/lib/python3.11/dist-packages (from datasets) (2.0.2)\n",
            "Requirement already satisfied: pyarrow>=15.0.0 in /usr/local/lib/python3.11/dist-packages (from datasets) (18.1.0)\n",
            "Requirement already satisfied: dill<0.3.9,>=0.3.0 in /usr/local/lib/python3.11/dist-packages (from datasets) (0.3.7)\n",
            "Requirement already satisfied: pandas in /usr/local/lib/python3.11/dist-packages (from datasets) (2.2.2)\n",
            "Requirement already satisfied: requests>=2.32.2 in /usr/local/lib/python3.11/dist-packages (from datasets) (2.32.3)\n",
            "Requirement already satisfied: tqdm>=4.66.3 in /usr/local/lib/python3.11/dist-packages (from datasets) (4.67.1)\n",
            "Requirement already satisfied: xxhash in /usr/local/lib/python3.11/dist-packages (from datasets) (3.5.0)\n",
            "Requirement already satisfied: multiprocess<0.70.17 in /usr/local/lib/python3.11/dist-packages (from datasets) (0.70.15)\n",
            "Requirement already satisfied: fsspec<=2025.3.0,>=2023.1.0 in /usr/local/lib/python3.11/dist-packages (from fsspec[http]<=2025.3.0,>=2023.1.0->datasets) (2025.3.0)\n",
            "Requirement already satisfied: huggingface-hub>=0.24.0 in /usr/local/lib/python3.11/dist-packages (from datasets) (0.32.4)\n",
            "Requirement already satisfied: packaging in /usr/local/lib/python3.11/dist-packages (from datasets) (24.2)\n",
            "Requirement already satisfied: pyyaml>=5.1 in /usr/local/lib/python3.11/dist-packages (from datasets) (6.0.2)\n",
            "Requirement already satisfied: aiohttp!=4.0.0a0,!=4.0.0a1 in /usr/local/lib/python3.11/dist-packages (from fsspec[http]<=2025.3.0,>=2023.1.0->datasets) (3.11.15)\n",
            "Requirement already satisfied: typing-extensions>=3.7.4.3 in /usr/local/lib/python3.11/dist-packages (from huggingface-hub>=0.24.0->datasets) (4.14.0)\n",
            "Requirement already satisfied: hf-xet<2.0.0,>=1.1.2 in /usr/local/lib/python3.11/dist-packages (from huggingface-hub>=0.24.0->datasets) (1.1.2)\n",
            "Requirement already satisfied: charset-normalizer<4,>=2 in /usr/local/lib/python3.11/dist-packages (from requests>=2.32.2->datasets) (3.4.2)\n",
            "Requirement already satisfied: idna<4,>=2.5 in /usr/local/lib/python3.11/dist-packages (from requests>=2.32.2->datasets) (3.10)\n",
            "Requirement already satisfied: urllib3<3,>=1.21.1 in /usr/local/lib/python3.11/dist-packages (from requests>=2.32.2->datasets) (2.4.0)\n",
            "Requirement already satisfied: certifi>=2017.4.17 in /usr/local/lib/python3.11/dist-packages (from requests>=2.32.2->datasets) (2025.4.26)\n",
            "Requirement already satisfied: python-dateutil>=2.8.2 in /usr/local/lib/python3.11/dist-packages (from pandas->datasets) (2.9.0.post0)\n",
            "Requirement already satisfied: pytz>=2020.1 in /usr/local/lib/python3.11/dist-packages (from pandas->datasets) (2025.2)\n",
            "Requirement already satisfied: tzdata>=2022.7 in /usr/local/lib/python3.11/dist-packages (from pandas->datasets) (2025.2)\n",
            "Requirement already satisfied: aiohappyeyeballs>=2.3.0 in /usr/local/lib/python3.11/dist-packages (from aiohttp!=4.0.0a0,!=4.0.0a1->fsspec[http]<=2025.3.0,>=2023.1.0->datasets) (2.6.1)\n",
            "Requirement already satisfied: aiosignal>=1.1.2 in /usr/local/lib/python3.11/dist-packages (from aiohttp!=4.0.0a0,!=4.0.0a1->fsspec[http]<=2025.3.0,>=2023.1.0->datasets) (1.3.2)\n",
            "Requirement already satisfied: attrs>=17.3.0 in /usr/local/lib/python3.11/dist-packages (from aiohttp!=4.0.0a0,!=4.0.0a1->fsspec[http]<=2025.3.0,>=2023.1.0->datasets) (25.3.0)\n",
            "Requirement already satisfied: frozenlist>=1.1.1 in /usr/local/lib/python3.11/dist-packages (from aiohttp!=4.0.0a0,!=4.0.0a1->fsspec[http]<=2025.3.0,>=2023.1.0->datasets) (1.6.0)\n",
            "Requirement already satisfied: multidict<7.0,>=4.5 in /usr/local/lib/python3.11/dist-packages (from aiohttp!=4.0.0a0,!=4.0.0a1->fsspec[http]<=2025.3.0,>=2023.1.0->datasets) (6.4.4)\n",
            "Requirement already satisfied: propcache>=0.2.0 in /usr/local/lib/python3.11/dist-packages (from aiohttp!=4.0.0a0,!=4.0.0a1->fsspec[http]<=2025.3.0,>=2023.1.0->datasets) (0.3.1)\n",
            "Requirement already satisfied: yarl<2.0,>=1.17.0 in /usr/local/lib/python3.11/dist-packages (from aiohttp!=4.0.0a0,!=4.0.0a1->fsspec[http]<=2025.3.0,>=2023.1.0->datasets) (1.20.0)\n",
            "Requirement already satisfied: six>=1.5 in /usr/local/lib/python3.11/dist-packages (from python-dateutil>=2.8.2->pandas->datasets) (1.17.0)\n"
          ]
        }
      ],
      "source": [
        "!pip install -U datasets emoji sentencepiece"
      ]
    },
    {
      "cell_type": "code",
      "execution_count": 2,
      "metadata": {
        "id": "aosPVh26kydY",
        "colab": {
          "base_uri": "https://localhost:8080/"
        },
        "outputId": "7f0dfadb-9d02-4155-db94-cb1b8124d8e4"
      },
      "outputs": [
        {
          "output_type": "stream",
          "name": "stderr",
          "text": [
            "/usr/local/lib/python3.11/dist-packages/huggingface_hub/utils/_auth.py:94: UserWarning: \n",
            "The secret `HF_TOKEN` does not exist in your Colab secrets.\n",
            "To authenticate with the Hugging Face Hub, create a token in your settings tab (https://huggingface.co/settings/tokens), set it as secret in your Google Colab and restart your session.\n",
            "You will be able to reuse this secret in all of your notebooks.\n",
            "Please note that authentication is recommended but still optional to access public models or datasets.\n",
            "  warnings.warn(\n"
          ]
        }
      ],
      "source": [
        "from datasets import load_dataset\n",
        "import re\n",
        "import html\n",
        "import emoji\n",
        "import sentencepiece as spm\n",
        "from torch.utils.data import Dataset, DataLoader\n",
        "\n",
        "data = load_dataset(\"cfilt/iitb-english-hindi\")\n",
        "text = data['train']['translation'][:80000]\n",
        "vocab_size = 8000\n",
        "\n",
        "en = [i['en'] for i in text]\n",
        "hi = [i['hi'] for i in text]\n",
        "\n",
        "def preprocess(sentence):\n",
        "    sentence = ' '.join(sentence.split())\n",
        "    sentence = html.unescape(sentence)\n",
        "    sentence = re.sub(r'<[^>]+>', '', sentence)\n",
        "    sentence = sentence.lower()\n",
        "    sentence = emoji.replace_emoji(sentence, replace='')\n",
        "    return sentence\n",
        "\n",
        "en = [preprocess(sent) for sent in en]\n",
        "hi = [preprocess(sent) for sent in hi]\n",
        "\n",
        "def list_to_txt(filename, list):\n",
        "    with open(filename, 'w') as f:\n",
        "        for i in list:\n",
        "            f.write(i + '\\n')\n",
        "\n",
        "list_to_txt(\"hindi_file.txt\", hi)\n",
        "list_to_txt(\"english_file.txt\", en)\n",
        "\n",
        "spm.SentencePieceTrainer.train(\n",
        "    input='english_file.txt',\n",
        "    model_prefix='english',\n",
        "    vocab_size=vocab_size,\n",
        "    model_type='bpe',\n",
        "    character_coverage=0.995,\n",
        "    pad_id=0,\n",
        "    unk_id=1,\n",
        "    bos_id=2,\n",
        "    eos_id=3,\n",
        "    normalization_rule_name='nmt_nfkc_cf'\n",
        ")\n",
        "\n",
        "spm.SentencePieceTrainer.train(\n",
        "    input='hindi_file.txt',\n",
        "    model_prefix='hindi',\n",
        "    vocab_size=vocab_size,\n",
        "    model_type='bpe',\n",
        "    character_coverage=0.999,\n",
        "    pad_id=0,\n",
        "    unk_id=1,\n",
        "    bos_id=2,\n",
        "    eos_id=3,\n",
        "    normalization_rule_name='nmt_nfkc_cf'\n",
        ")\n",
        "\n",
        "en_sp = spm.SentencePieceProcessor(model_file=\"english.model\")\n",
        "hi_sp = spm.SentencePieceProcessor(model_file=\"hindi.model\")\n",
        "\n",
        "class DatasetPreparation(Dataset):\n",
        "  def __init__(self, model_eng, model_hin, data) -> None:\n",
        "      super().__init__()\n",
        "      self.bpe_eng = spm.SentencePieceProcessor(model_file=model_eng)\n",
        "      self.bpe_hin = spm.SentencePieceProcessor(model_file=model_hin)\n",
        "      self.data = data\n",
        "\n",
        "  def __len__(self):\n",
        "      return len(self.data)\n",
        "\n",
        "  def __getitem__(self, index):\n",
        "      eng_sentence = self.data[index]['en']\n",
        "      hin_sentence = self.data[index]['hi']\n",
        "\n",
        "      enc_eng = self.bpe_eng.encode(eng_sentence, out_type=int)\n",
        "      enc_hi = self.bpe_hin.encode(hin_sentence, out_type=int)\n",
        "    #   enc_hi = [self.bpe_hin.bos_id()] + enc_hi + [self.bpe_hin.eos_id()]\n",
        "      decoder_inputs = [self.bpe_hin.bos_id()] + enc_hi\n",
        "      decoder_outputs = enc_hi + [self.bpe_hin.eos_id()]\n",
        "\n",
        "      return {\n",
        "          'input_ids': enc_eng,\n",
        "          'decoder_inputs': decoder_inputs,\n",
        "          'target_ids': decoder_outputs\n",
        "      }\n",
        "\n",
        "train_dataset = DatasetPreparation(model_eng=\"english.model\", model_hin=\"hindi.model\", data=text)\n",
        "test_dataset = DatasetPreparation(model_eng=\"english.model\", model_hin=\"hindi.model\", data=data['test']['translation'])\n",
        "\n",
        "import torch\n",
        "\n",
        "def collate_fn(batch):\n",
        "    input_ids = [item['input_ids'] for item in batch]\n",
        "    decoder_inputs = [item['decoder_inputs'] for item in batch]\n",
        "    target_ids = [item['target_ids'] for item in batch]\n",
        "\n",
        "    input_lengths = [len(x) for x in input_ids]\n",
        "    target_lengths = [len(x) for x in target_ids]\n",
        "\n",
        "    input_padded = torch.nn.utils.rnn.pad_sequence(\n",
        "        [torch.tensor(x) for x in input_ids], batch_first=True, padding_value=0\n",
        "    )\n",
        "\n",
        "    decoder_input_padded = torch.nn.utils.rnn.pad_sequence(\n",
        "        [torch.tensor(x) for x in decoder_inputs], batch_first=True, padding_value=0\n",
        "    )\n",
        "\n",
        "    output_padded = torch.nn.utils.rnn.pad_sequence(\n",
        "        [torch.tensor(x) for x in target_ids], batch_first=True, padding_value=0\n",
        "    )\n",
        "\n",
        "    return {\n",
        "        'input_ids': input_padded,\n",
        "        'decoder_inputs': decoder_input_padded,\n",
        "        'target_ids': output_padded,\n",
        "        'input_lengths': torch.Tensor(input_lengths),\n",
        "        'target_lengths': torch.Tensor(target_lengths)\n",
        "    }\n",
        "\n",
        "train_loader = DataLoader(\n",
        "    dataset=train_dataset,\n",
        "    batch_size=64,\n",
        "    shuffle=True,\n",
        "    collate_fn=collate_fn\n",
        ")\n",
        "\n",
        "test_loader = DataLoader(\n",
        "    dataset=test_dataset,\n",
        "    batch_size=64,\n",
        "    shuffle=True,\n",
        "    collate_fn=collate_fn\n",
        ")"
      ]
    },
    {
      "cell_type": "code",
      "execution_count": 3,
      "metadata": {
        "colab": {
          "base_uri": "https://localhost:8080/"
        },
        "id": "7Krttr79k2Ga",
        "outputId": "df48c7a0-6307-42d3-a57a-17dcf45d79c2"
      },
      "outputs": [
        {
          "output_type": "execute_result",
          "data": {
            "text/plain": [
              "(EncoderDecoderAttention(\n",
              "   (encoder): Encoder(\n",
              "     (embedding): Embedding(8000, 512, padding_idx=0, max_norm=1)\n",
              "     (lstm_layers): LSTM(512, 512, num_layers=2, batch_first=True, dropout=0.3, bidirectional=True)\n",
              "     (embd_dropout): Dropout(p=0.3, inplace=False)\n",
              "   )\n",
              "   (linear): ModuleList(\n",
              "     (0-1): 2 x Linear(in_features=1024, out_features=512, bias=True)\n",
              "   )\n",
              "   (decoder): Decoder(\n",
              "     (embedding): Embedding(8000, 512, padding_idx=0, max_norm=1)\n",
              "     (lstm_layers): LSTM(512, 512, num_layers=2, batch_first=True, dropout=0.3)\n",
              "     (out): Linear(in_features=512, out_features=8000, bias=True)\n",
              "   )\n",
              "   (attention): Attention(\n",
              "     (linear): Linear(in_features=1024, out_features=512, bias=True)\n",
              "   )\n",
              "   (attention_linear): Linear(in_features=1024, out_features=8000, bias=True)\n",
              " ),\n",
              " 36775040,\n",
              " 36775040,\n",
              " device(type='cuda', index=0))"
            ]
          },
          "metadata": {},
          "execution_count": 3
        }
      ],
      "source": [
        "import torch\n",
        "from torch import nn\n",
        "import pandas as pd\n",
        "\n",
        "class Encoder(nn.Module):\n",
        "    def __init__(self, vocab_size, embd_dropout, input_size, hidden_size, num_layers, dropout):\n",
        "        super().__init__()\n",
        "        self.embedding = nn.Embedding(num_embeddings=vocab_size, embedding_dim=input_size, padding_idx=0, max_norm=1)\n",
        "        self.lstm_layers = nn.LSTM(input_size=input_size, hidden_size=hidden_size, num_layers=num_layers, batch_first=True, dropout=dropout if num_layers>1 else 0, bidirectional=True)\n",
        "        self.embd_dropout = nn.Dropout(embd_dropout)\n",
        "\n",
        "    def forward(self, x: torch.Tensor) -> torch.Tensor:\n",
        "        embeddings = self.embedding(x)\n",
        "        embeddings = self.embd_dropout(embeddings)\n",
        "        output, (h_n, c_n) = self.lstm_layers(embeddings)\n",
        "        return output, h_n, c_n\n",
        "\n",
        "class Decoder(nn.Module):\n",
        "    def __init__(self, vocab_size, input_size, hidden_size, num_layers, dropout):\n",
        "        super().__init__()\n",
        "        self.embedding = nn.Embedding(num_embeddings=vocab_size, embedding_dim=input_size, padding_idx=0, max_norm=1)\n",
        "        self.lstm_layers = nn.LSTM(input_size=input_size, hidden_size=hidden_size, num_layers=num_layers, batch_first=True, dropout=dropout if num_layers > 1 else 0, bidirectional=False)\n",
        "        self.out = nn.Linear(in_features=hidden_size, out_features=vocab_size)\n",
        "\n",
        "    def forward(self, tgt, hidden):\n",
        "        x = self.embedding(tgt)\n",
        "\n",
        "        output, (h, c) = self.lstm_layers(x, hidden)\n",
        "        # output = self.out(output)\n",
        "        return output, h, c\n",
        "\n",
        "class Attention(nn.Module):\n",
        "    def __init__(self, encoder_output_size, decoder_output_size):\n",
        "       super().__init__()\n",
        "       self.linear = nn.Linear(in_features=encoder_output_size, out_features=decoder_output_size)\n",
        "\n",
        "    def forward(self, encoder_output: torch.Tensor, query: torch.Tensor) -> torch.Tensor:\n",
        "      # encoder output: (B, seq_len, 2*hidden_dim)\n",
        "      # query: decoder output => (B, seq_len, decoder_hidden_dim)\n",
        "      encoder_output = self.linear(encoder_output)\n",
        "      score = torch.bmm(query, encoder_output.transpose(1, 2))\n",
        "      weights = torch.softmax(score, dim=-1)\n",
        "      context = torch.bmm(weights, encoder_output)\n",
        "      return context\n",
        "\n",
        "class EncoderDecoderAttention(nn.Module):\n",
        "    def __init__(self, vocab_size, embd_dropout, input_size, hidden_size, num_layers, dropout):\n",
        "        super().__init__()\n",
        "        self.encoder = Encoder(vocab_size=vocab_size, embd_dropout=embd_dropout, input_size=input_size, hidden_size=hidden_size, num_layers=num_layers, dropout=dropout)\n",
        "        self.linear = nn.ModuleList([\n",
        "            nn.Linear(in_features=hidden_size*2, out_features=hidden_size) for i in range(num_layers)\n",
        "        ])\n",
        "\n",
        "        self.decoder = Decoder(vocab_size=vocab_size, input_size=input_size, hidden_size=hidden_size, num_layers=num_layers, dropout=dropout)\n",
        "        self.attention = Attention(encoder_output_size=hidden_size*2, decoder_output_size=hidden_size)\n",
        "        self.attention_linear = nn.Linear(in_features=hidden_size*2, out_features=vocab_size)\n",
        "\n",
        "    def combine_bidirectional_outputs(self, matrix, linear):\n",
        "        m_new = []\n",
        "\n",
        "        for i in range(len(matrix)//2):\n",
        "            m_first = matrix[2*i]\n",
        "            m_second = matrix[2*i+1]\n",
        "            m_n_new = torch.cat([m_first, m_second], dim=-1)\n",
        "            m_n_new = torch.tanh(linear[i](m_n_new))\n",
        "            m_new.append(m_n_new)\n",
        "        m_new = torch.stack(m_new)\n",
        "\n",
        "        return m_new\n",
        "\n",
        "    # Assuing teacher forcing in trainig, forward is coded for teacher forcing training\n",
        "    # x shape -> (batch, seq_length)\n",
        "    def forward(self, x: torch.Tensor, tgt: torch.Tensor) -> torch.Tensor:\n",
        "        \"\"\"\n",
        "        x: (batch, seq_len)\n",
        "        tgt: (batch, seq_len)\n",
        "        \"\"\"\n",
        "        output, h_n, c_n = self.encoder(x)\n",
        "        encoder_output = output\n",
        "\n",
        "        # shapes\n",
        "        # output: (batch, seq_len, D*hidden_size)\n",
        "        # h_n, c_n: (D*num_layers, batch, hidden_size) -> changed to (num_layers, batch, hidden_size)\n",
        "\n",
        "        h_new = self.combine_bidirectional_outputs(matrix=h_n, linear=self.linear)\n",
        "        c_new = self.combine_bidirectional_outputs(matrix=c_n, linear=self.linear)\n",
        "\n",
        "        output, h, c = self.decoder(tgt, (h_new, c_new))\n",
        "        contexts = self.attention(encoder_output, output)\n",
        "        combined = torch.cat([output, contexts], dim=-1)\n",
        "        outputs = self.attention_linear(combined)\n",
        "        return outputs\n",
        "\n",
        "    def inference(self, x:torch.Tensor, max_length=50, start_token=2, end_token=3) -> torch.Tensor:\n",
        "        \"\"\"\n",
        "        x: (batch, input_size), 1 because 1 word of the sequence at a time\n",
        "        \"\"\"\n",
        "        encoder_output, h_n, c_n = self.encoder(x)\n",
        "\n",
        "        h_new = self.combine_bidirectional_outputs(matrix=h_n, linear=self.linear)\n",
        "        c_new = self.combine_bidirectional_outputs(matrix=c_n, linear=self.linear)\n",
        "\n",
        "        # current_vector = torch.unsqueeze(x, 1) # convert x to (batch, 1, input_size)\n",
        "        batch_size = x.shape[0]\n",
        "        current_vector = torch.full(size=(batch_size, 1), fill_value=start_token, dtype=torch.long, device=device)\n",
        "        generations = []\n",
        "\n",
        "        for _ in range(max_length):\n",
        "            output_vector, h_new, c_new = self.decoder(current_vector, (h_new, c_new))\n",
        "\n",
        "            contexts = self.attention(encoder_output, output_vector)\n",
        "            combined = torch.cat([output_vector, contexts], dim=-1)\n",
        "            outputs = self.attention_linear(combined)\n",
        "\n",
        "            current_vector = outputs.argmax(dim=-1)\n",
        "            generations.append(current_vector)\n",
        "            if (current_vector == end_token).all():\n",
        "              break\n",
        "\n",
        "        return torch.cat(generations, dim=1)\n",
        "\n",
        "device = \"cuda\" if torch.cuda.is_available() else \"mps\" if torch.backends.mps.is_available() else \"cpu\"\n",
        "model = EncoderDecoderAttention(vocab_size=vocab_size, embd_dropout=0.3, input_size=512, hidden_size=512, num_layers=2, dropout=0.3)\n",
        "model.to(device=device)\n",
        "\n",
        "model, sum(torch.numel(i) for i in model.parameters() if i.requires_grad), sum(torch.numel(i) for i in model.parameters()), next(model.parameters()).device"
      ]
    },
    {
      "cell_type": "code",
      "execution_count": 4,
      "metadata": {
        "colab": {
          "base_uri": "https://localhost:8080/"
        },
        "id": "yw0PcL1Uk6Ro",
        "outputId": "2beaeaf4-0709-4224-ccf3-4d7d3cc04d5a"
      },
      "outputs": [
        {
          "output_type": "execute_result",
          "data": {
            "text/plain": [
              "(CrossEntropyLoss(),\n",
              " AdamW (\n",
              " Parameter Group 0\n",
              "     amsgrad: False\n",
              "     betas: (0.9, 0.999)\n",
              "     capturable: False\n",
              "     differentiable: False\n",
              "     eps: 1e-08\n",
              "     foreach: None\n",
              "     fused: None\n",
              "     initial_lr: 0.001\n",
              "     lr: 0.001\n",
              "     maximize: False\n",
              "     weight_decay: 1e-05\n",
              " ),\n",
              " <torch.optim.lr_scheduler.CosineAnnealingWarmRestarts at 0x7c8dec747690>)"
            ]
          },
          "metadata": {},
          "execution_count": 4
        }
      ],
      "source": [
        "loss_fn = nn.CrossEntropyLoss(ignore_index=0)\n",
        "optimizer = torch.optim.AdamW(params=model.parameters(), lr=1e-3, weight_decay=1e-5)\n",
        "scheduler = torch.optim.lr_scheduler.CosineAnnealingWarmRestarts(optimizer=optimizer, T_0=8, eta_min=3e-4)\n",
        "\n",
        "loss_fn, optimizer, scheduler"
      ]
    },
    {
      "cell_type": "code",
      "execution_count": 5,
      "metadata": {
        "colab": {
          "base_uri": "https://localhost:8080/"
        },
        "id": "tWFv9f3GGwXH",
        "outputId": "3a7a772c-f69d-4f3b-e44d-0123df0b5689"
      },
      "outputs": [
        {
          "output_type": "execute_result",
          "data": {
            "text/plain": [
              "1250"
            ]
          },
          "metadata": {},
          "execution_count": 5
        }
      ],
      "source": [
        "len(train_loader)"
      ]
    },
    {
      "cell_type": "code",
      "execution_count": 6,
      "metadata": {
        "colab": {
          "base_uri": "https://localhost:8080/"
        },
        "id": "nrdEmaKFk87Y",
        "outputId": "8988d0cd-be6e-4474-bd8b-fa69ee0c84ce"
      },
      "outputs": [
        {
          "output_type": "stream",
          "name": "stderr",
          "text": [
            "<ipython-input-6-33dcabb206d6>:39: FutureWarning: `torch.nn.utils.clip_grad_norm` is now deprecated in favor of `torch.nn.utils.clip_grad_norm_`.\n",
            "  torch.nn.utils.clip_grad_norm(parameters=model.parameters(), max_norm=1.0)\n"
          ]
        },
        {
          "output_type": "stream",
          "name": "stdout",
          "text": [
            "0: 8.991357803344727 0.0\n",
            "200: 1171.730145931244 37.020593812682705\n",
            "400: 2064.9906346797943 94.72642512700143\n",
            "600: 2778.6623334884644 171.25812713427663\n",
            "800: 3358.248529434204 264.52736588273956\n",
            "1000: 3843.7091230154037 371.4656661198832\n",
            "1200: 4245.730589032173 490.87206598617047\n",
            "Epoch: 0, train loss: 3.470732734012604, train acc: 0.41701238858875705, test loss: 8.532610607147216, test acc: 0.05231911020546558\n",
            "Bleu: 0.000525413156279096\n",
            "0: 1.2469295263290405 0.7211267605633803\n",
            "200: 307.1218681335449 136.17992049677338\n",
            "400: 581.7349331378937 277.841496309864\n",
            "600: 827.3760634064674 425.4657202655933\n",
            "800: 1042.902919769287 579.1084861502986\n",
            "1000: 1240.4703722596169 736.7944776550349\n",
            "1200: 1415.1946428716183 899.5650561113886\n",
            "Epoch: 1, train loss: 1.1647660451173782, train acc: 0.7518259876259261, test loss: 9.115490746498107, test acc: 0.04462688960418535\n",
            "Bleu: 0.0006490511676788362\n",
            "0: 1.1392621994018555 0.7406143344709898\n",
            "200: 131.1408156454563 171.84302454756536\n",
            "400: 246.04540500044823 346.3208203038275\n",
            "600: 359.3672867715359 521.6343148088934\n",
            "800: 464.4131214916706 698.8516259091101\n",
            "1000: 567.7107197642326 876.4084612296623\n",
            "1200: 666.7990419715643 1054.9817296466674\n",
            "Epoch: 2, train loss: 0.5523739893078804, train acc: 0.8792333666493257, test loss: 9.555501103401184, test acc: 0.04519118378960086\n",
            "Bleu: 0.0007982908101324022\n",
            "0: 0.2873139977455139 0.9342105263157895\n",
            "200: 68.99003058671951 185.75170168103085\n",
            "400: 134.35229873657227 371.3904313293061\n",
            "600: 197.12620083987713 557.7016078881911\n",
            "800: 258.141299046576 744.4416453679986\n",
            "1000: 317.26487592607737 931.725361280109\n",
            "1200: 380.3980156853795 1118.3048677002364\n",
            "Epoch: 3, train loss: 0.31568084446787836, train acc: 0.9313972965255553, test loss: 10.13976604938507, test acc: 0.041641847476130624\n",
            "Bleu: 0.000745110605550368\n",
            "0: 0.2454797774553299 0.947242206235012\n",
            "200: 42.8354662284255 191.59802583526113\n",
            "400: 83.29485701024532 382.440941840937\n",
            "600: 122.62860618531704 573.8623338324733\n",
            "800: 162.72819891572 765.2053714070262\n",
            "1000: 202.63735626637936 956.516989104699\n",
            "1200: 242.12627614289522 1147.8540785228765\n",
            "Epoch: 4, train loss: 0.20182006195783614, train acc: 0.9557237437963453, test loss: 10.393790745735169, test acc: 0.043172431262781155\n",
            "Bleu: 0.0007324087754056418\n",
            "0: 0.12901811301708221 0.9667519181585678\n",
            "200: 28.28410605341196 194.60959582327806\n",
            "400: 56.51951603591442 388.13287814848513\n",
            "600: 84.39707966893911 581.8036923656612\n",
            "800: 112.64446974918246 775.4243617613308\n",
            "1000: 140.41266252100468 969.1182881816861\n",
            "1200: 166.99078623577952 1162.9476511079747\n",
            "Epoch: 5, train loss: 0.13898364966213703, train acc: 0.9683545294965765, test loss: 10.756963729858398, test acc: 0.04083083069253485\n",
            "Bleu: 0.0007366759887558879\n",
            "0: 0.15708523988723755 0.9633620689655172\n",
            "200: 20.84664773195982 196.04942531362298\n",
            "400: 39.843281015753746 391.5210128004497\n",
            "600: 60.42879525385797 586.6191913341221\n",
            "800: 80.86095150001347 781.82704867879\n",
            "1000: 101.64100087992847 976.8502584216689\n",
            "1200: 122.09267204813659 1171.981591363354\n",
            "Epoch: 6, train loss: 0.10143179049342871, train acc: 0.9758722991699457, test loss: 11.130638122558594, test acc: 0.0413287714520578\n",
            "Bleu: 0.0006401995533176488\n",
            "0: 0.065165676176548 0.980722891566265\n",
            "200: 15.947431592270732 197.12585053250382\n",
            "400: 31.369553305208683 393.20583711227795\n",
            "600: 47.04913467168808 589.2551211365934\n",
            "800: 63.54175468161702 785.1730285327817\n",
            "1000: 79.87147275730968 981.0347758018864\n",
            "1200: 96.61320542544127 1176.946350704835\n",
            "Epoch: 7, train loss: 0.08064533590972424, train acc: 0.9799237870801544, test loss: 11.216805505752564, test acc: 0.042826747225723646\n",
            "Bleu: 0.0007591517720130954\n",
            "0: 0.09218442440032959 0.9765258215962441\n",
            "200: 64.70938154682517 184.04111186070756\n",
            "400: 181.02303516492248 352.98946367793826\n",
            "600: 266.92698788270354 530.5308164521525\n",
            "800: 333.4767261855304 713.6830389152777\n",
            "1000: 390.8362435810268 899.5564117340316\n",
            "1200: 440.92786299809813 1087.1858152185018\n",
            "Epoch: 8, train loss: 0.3617889503270388, train acc: 0.9066809310125378, test loss: 10.983373641967773, test acc: 0.04206757884167932\n",
            "Bleu: 0.0007113167189638001\n",
            "0: 0.15114055573940277 0.9594017094017094\n",
            "200: 36.151711367070675 192.2751445450911\n",
            "400: 69.83377061784267 384.1409382794513\n",
            "600: 103.52223528176546 576.0732717906893\n",
            "800: 137.8640685081482 767.9340888120349\n",
            "1000: 173.22249792516232 959.5632546036668\n",
            "1200: 208.50812056660652 1151.2635735289523\n",
            "Epoch: 9, train loss: 0.17378879351615906, train acc: 0.9585510944679876, test loss: 11.44716637134552, test acc: 0.03897374123586431\n",
            "Bleu: 0.0008301519753482339\n",
            "0: 0.11852142214775085 0.9734748010610079\n",
            "200: 28.20073753222823 194.3305473346991\n",
            "400: 55.467482414096594 387.77801068621176\n",
            "600: 83.2999674975872 581.0724875541041\n",
            "800: 113.43248491734266 773.7871949429077\n",
            "1000: 142.70515605807304 966.6387154521058\n",
            "1200: 171.43093482404947 1159.7047989715613\n",
            "Epoch: 10, train loss: 0.14286686337590218, train acc: 0.9655945531801139, test loss: 11.67228672504425, test acc: 0.04039153423494716\n",
            "Bleu: 0.0007725800503633176\n",
            "0: 0.09482008963823318 0.9785202863961814\n",
            "200: 22.535108607262373 195.76870363448367\n",
            "400: 44.86928093805909 390.4750656545285\n",
            "600: 66.62014332786202 585.1584551262549\n",
            "800: 89.54662109911442 779.6043808627405\n",
            "1000: 112.07001676410437 974.1189132382851\n",
            "1200: 135.63220632076263 1168.4175700923824\n",
            "Epoch: 11, train loss: 0.11337886579036713, train acc: 0.9727811551262432, test loss: 11.755076360702514, test acc: 0.042979020811614935\n",
            "Bleu: 0.0007519160212201817\n",
            "0: 0.06896595656871796 0.9827213822894169\n",
            "200: 19.55610279738903 196.2413202661639\n",
            "400: 37.654709892347455 391.67380650275317\n",
            "600: 55.820089406333864 587.2514318216737\n",
            "800: 73.05265001114458 782.9668896926\n",
            "1000: 90.60367406066507 978.6501855790691\n",
            "1200: 108.49181396793574 1174.3004692629936\n",
            "Epoch: 12, train loss: 0.09007623190805315, train acc: 0.9778329582513008, test loss: 11.92643313407898, test acc: 0.04192381833935587\n",
            "Bleu: 0.0007644525671183937\n",
            "0: 0.07229969650506973 0.9806763285024155\n",
            "200: 14.51527776569128 197.21477593600005\n",
            "400: 29.200144592672586 393.40900713453345\n",
            "600: 43.32068654336035 589.738166915998\n",
            "800: 58.13831999711692 785.9944914740984\n",
            "1000: 72.20043438486755 982.3019559849972\n",
            "1200: 86.72755620628595 1178.5289816935463\n",
            "Epoch: 13, train loss: 0.07239705971032381, train acc: 0.9812511363748636, test loss: 12.090945172309876, test acc: 0.042838889958574405\n",
            "Bleu: 0.0007785182668244786\n",
            "0: 0.06084778159856796 0.9860279441117764\n",
            "200: 11.676987819373608 197.8564056679074\n",
            "400: 23.896214567124844 394.4556405147871\n",
            "600: 35.77456192672253 591.0997325564128\n",
            "800: 47.82037735451013 787.7051800403922\n",
            "1000: 60.386156412772834 984.2375721604643\n",
            "1200: 71.85909546166658 1181.069812521416\n",
            "Epoch: 14, train loss: 0.059957195058465, train acc: 0.9833838242959823, test loss: 12.12050964832306, test acc: 0.04101441410021577\n",
            "Bleu: 0.0007581051564376286\n",
            "0: 0.05197363346815109 0.9838709677419355\n",
            "200: 10.03269618190825 198.1323923845562\n",
            "400: 19.946400661952794 395.15117621484245\n",
            "600: 30.801049736328423 591.9636433173304\n",
            "800: 41.69538827333599 788.7773910573032\n",
            "1000: 52.250412771478295 985.6848351480222\n",
            "1200: 63.16490496695042 1182.4414786264374\n",
            "Epoch: 15, train loss: 0.05267455572336912, train acc: 0.9845140966669911, test loss: 12.33151969909668, test acc: 0.044875194411755345\n",
            "Bleu: 0.0008122219230291331\n",
            "0: 0.04953833296895027 0.9855421686746988\n",
            "200: 44.01116104051471 189.09660864058085\n",
            "400: 142.72499684616923 362.1548514378353\n",
            "600: 210.49951313063502 543.7982740878186\n",
            "800: 260.3330888263881 730.6440217170278\n",
            "1000: 299.26782200857997 920.5234691966119\n",
            "1200: 334.40277503058314 1111.5043230020112\n",
            "Epoch: 16, train loss: 0.27378287342488766, train acc: 0.926847688641095, test loss: 12.07571737766266, test acc: 0.03667102570422765\n",
            "Bleu: 0.0008073454942164238\n",
            "0: 0.11665839701890945 0.9716024340770791\n",
            "200: 25.634003154933453 194.56103955308802\n",
            "400: 48.247442062944174 388.7217449601565\n",
            "600: 70.99863256514072 583.1542096178297\n",
            "800: 94.3277456201613 777.3901054330215\n",
            "1000: 117.61807452142239 971.6870981635052\n",
            "1200: 141.62646346911788 1165.7777330394867\n",
            "Epoch: 17, train loss: 0.11789937328100204, train acc: 0.970679185019217, test loss: 12.241011452674865, test acc: 0.03979473192453361\n",
            "Bleu: 0.0007820399037330419\n",
            "0: 0.16226190328598022 0.9563218390804598\n",
            "200: 19.76169579476118 196.16858204033971\n",
            "400: 39.43449090979993 391.3420460262586\n",
            "600: 59.65657348372042 586.3052920280408\n",
            "800: 80.82439963705838 781.1404528309286\n",
            "1000: 102.5406941678375 975.760044545937\n",
            "1200: 124.77778150327504 1170.2336028367477\n",
            "Epoch: 18, train loss: 0.10404775607138872, train acc: 0.9743146384612758, test loss: 12.557031536102295, test acc: 0.04069484656489989\n",
            "Bleu: 0.0008426387884238332\n",
            "0: 0.10210367292165756 0.9702517162471396\n",
            "200: 18.479483626782894 196.31937182950347\n",
            "400: 36.586595406755805 391.6528114771339\n",
            "600: 55.10554803721607 586.8236662172617\n",
            "800: 74.20489872992039 781.9498845245062\n",
            "1000: 93.18064159713686 977.1007193291681\n",
            "1200: 112.15853518806398 1172.2796633055407\n",
            "Epoch: 19, train loss: 0.09353922780901193, train acc: 0.9760874482836778, test loss: 12.634454393386841, test acc: 0.03907785527550833\n",
            "Bleu: 0.0007661944562906839\n"
          ]
        }
      ],
      "source": [
        "from nltk.translate.bleu_score import sentence_bleu, SmoothingFunction\n",
        "\n",
        "epochs = 20\n",
        "epoch_train_loss = []\n",
        "epoch_train_acc = []\n",
        "\n",
        "epoch_test_loss = []\n",
        "epoch_test_acc = []\n",
        "\n",
        "bleus = []\n",
        "\n",
        "def calculate_bleu(preds, target, tokenizer):\n",
        "  score = 0\n",
        "  for line in range(len(preds)):\n",
        "    pred_sentence = tokenizer.decode(torch.tensor([i for i in preds[line] if i>3]).tolist())\n",
        "    tgt_sentence = tokenizer.decode(torch.tensor([i for i in target[line] if i>3]).tolist())\n",
        "    score += sentence_bleu(pred_sentence.split(), tgt_sentence.split(), smoothing_function=SmoothingFunction().method4)\n",
        "  return score/len(preds)\n",
        "\n",
        "def calculate_accuracy(preds, targets):\n",
        "  masks = targets != 0\n",
        "  corrects = (preds == targets) & masks\n",
        "  return corrects.sum().item() / masks.sum().item()\n",
        "\n",
        "for epoch in range(epochs):\n",
        "    model.train()\n",
        "    train_loss, train_acc = 0, 0\n",
        "    for batch, X in enumerate(train_loader):\n",
        "        x = X['input_ids'].to(device=device)\n",
        "\n",
        "        decoder_inputs = X['decoder_inputs'].to(device=device)\n",
        "        decoder_outputs = X['target_ids'].to(device=device)\n",
        "\n",
        "        optimizer.zero_grad()\n",
        "        outputs = model(x, decoder_inputs)\n",
        "        loss = loss_fn(outputs.view(-1, vocab_size), decoder_outputs.view(-1))\n",
        "\n",
        "        loss.backward()\n",
        "        torch.nn.utils.clip_grad_norm(parameters=model.parameters(), max_norm=1.0)\n",
        "        optimizer.step()\n",
        "\n",
        "        acc = calculate_accuracy(outputs.argmax(-1), decoder_outputs)\n",
        "\n",
        "        train_loss += loss.item()\n",
        "        train_acc += acc\n",
        "\n",
        "        if batch%200==0:\n",
        "          print(f\"{batch}: {train_loss} {train_acc}\")\n",
        "\n",
        "    epoch_train_loss.append(train_loss/len(train_loader))\n",
        "    epoch_train_acc.append(train_acc/len(train_loader))\n",
        "\n",
        "    test_loss, test_acc = 0, 0\n",
        "    model.eval()\n",
        "    with torch.no_grad():\n",
        "        for X in test_loader:\n",
        "            x = X['input_ids'].to(device=device)\n",
        "            decoder_inputs = X['decoder_inputs'].to(device=device)\n",
        "            decoder_targets = X['target_ids'].to(device=device)\n",
        "\n",
        "            preds = model(x=x, tgt=decoder_inputs)\n",
        "            loss = loss_fn(preds.view(-1, vocab_size), decoder_targets.view(-1))\n",
        "            acc = calculate_accuracy(preds.argmax(-1), decoder_targets)\n",
        "\n",
        "            test_loss += loss.item()\n",
        "            test_acc += acc\n",
        "\n",
        "        epoch_test_loss.append(test_loss/len(test_loader))\n",
        "        epoch_test_acc.append(test_acc/len(test_loader))\n",
        "    scheduler.step()\n",
        "\n",
        "    # Calculating blue score of predictions after each epoch\n",
        "    with torch.no_grad():\n",
        "      bleu = 0\n",
        "      for X in test_loader:\n",
        "        x = X['input_ids'].to(device=device)\n",
        "        preds = model.inference(x=x)\n",
        "        bleu_score = calculate_bleu(preds, X['target_ids'], tokenizer=hi_sp)\n",
        "        bleu += bleu_score\n",
        "      bleu /= len(test_loader)\n",
        "    bleus.append(bleu)\n",
        "\n",
        "    print(f\"Epoch: {epoch}, train loss: {epoch_train_loss[-1]}, train acc: {epoch_train_acc[-1]}, test loss: {epoch_test_loss[-1]}, test acc: {epoch_test_acc[-1]}\")\n",
        "    print(f\"Bleu: {bleu}\")"
      ]
    },
    {
      "cell_type": "code",
      "execution_count": 7,
      "metadata": {
        "id": "2kahJjAfJ1Wp",
        "colab": {
          "base_uri": "https://localhost:8080/",
          "height": 448
        },
        "outputId": "50cb3edb-872d-45b4-a6e6-8de4b8ec5430"
      },
      "outputs": [
        {
          "output_type": "execute_result",
          "data": {
            "text/plain": [
              "[<matplotlib.lines.Line2D at 0x7c8de721dd90>]"
            ]
          },
          "metadata": {},
          "execution_count": 7
        },
        {
          "output_type": "display_data",
          "data": {
            "text/plain": [
              "<Figure size 640x480 with 1 Axes>"
            ],
            "image/png": "[encoded data removed]"
          },
          "metadata": {}
        }
      ],
      "source": [
        "import matplotlib.pyplot as plt\n",
        "\n",
        "plt.plot(bleus)"
      ]
    },
    {
      "cell_type": "code",
      "execution_count": 8,
      "metadata": {
        "id": "pbR0R4WoOMPJ",
        "colab": {
          "base_uri": "https://localhost:8080/",
          "height": 448
        },
        "outputId": "cf13b0d5-31a9-41ae-9a2d-dc76f6d13309"
      },
      "outputs": [
        {
          "output_type": "execute_result",
          "data": {
            "text/plain": [
              "[<matplotlib.lines.Line2D at 0x7c8de1c7bdd0>]"
            ]
          },
          "metadata": {},
          "execution_count": 8
        },
        {
          "output_type": "display_data",
          "data": {
            "text/plain": [
              "<Figure size 640x480 with 1 Axes>"
            ],
            "image/png": "[encoded data removed]"
          },
          "metadata": {}
        }
      ],
      "source": [
        "plt.plot(epoch_train_acc)"
      ]
    },
    {
      "cell_type": "code",
      "execution_count": 9,
      "metadata": {
        "id": "kQSKBea2OXFf",
        "colab": {
          "base_uri": "https://localhost:8080/",
          "height": 448
        },
        "outputId": "e085d5ac-956a-4faa-9ea5-d336b92a5b58"
      },
      "outputs": [
        {
          "output_type": "execute_result",
          "data": {
            "text/plain": [
              "[<matplotlib.lines.Line2D at 0x7c8de1ca2ed0>]"
            ]
          },
          "metadata": {},
          "execution_count": 9
        },
        {
          "output_type": "display_data",
          "data": {
            "text/plain": [
              "<Figure size 640x480 with 1 Axes>"
            ],
            "image/png": "[encoded data removed]"
          },
          "metadata": {}
        }
      ],
      "source": [
        "plt.plot(epoch_test_acc)\n"
      ]
    },
    {
      "cell_type": "code",
      "execution_count": 10,
      "metadata": {
        "id": "W9rjM1jTOZM5",
        "colab": {
          "base_uri": "https://localhost:8080/",
          "height": 448
        },
        "outputId": "50f3ba2c-0fff-4fce-ae4f-86c547467bd6"
      },
      "outputs": [
        {
          "output_type": "execute_result",
          "data": {
            "text/plain": [
              "[<matplotlib.lines.Line2D at 0x7c8de46c33d0>]"
            ]
          },
          "metadata": {},
          "execution_count": 10
        },
        {
          "output_type": "display_data",
          "data": {
            "text/plain": [
              "<Figure size 640x480 with 1 Axes>"
            ],
            "image/png": "[encoded data removed]"
          },
          "metadata": {}
        }
      ],
      "source": [
        "plt.plot(epoch_test_loss)"
      ]
    },
    {
      "cell_type": "code",
      "execution_count": 11,
      "metadata": {
        "id": "gGzVTmxlObBe",
        "colab": {
          "base_uri": "https://localhost:8080/",
          "height": 448
        },
        "outputId": "de0b568f-81ac-41a8-c5e6-1384448894e6"
      },
      "outputs": [
        {
          "output_type": "execute_result",
          "data": {
            "text/plain": [
              "[<matplotlib.lines.Line2D at 0x7c8dec783310>]"
            ]
          },
          "metadata": {},
          "execution_count": 11
        },
        {
          "output_type": "display_data",
          "data": {
            "text/plain": [
              "<Figure size 640x480 with 1 Axes>"
            ],
            "image/png": "[encoded data removed]"
          },
          "metadata": {}
        }
      ],
      "source": [
        "plt.plot(epoch_train_loss)"
      ]
    },
    {
      "cell_type": "code",
      "execution_count": 12,
      "metadata": {
        "id": "OwTNAIPJHrA-"
      },
      "outputs": [],
      "source": [
        "model.eval()\n",
        "with torch.no_grad():\n",
        "  for X in test_loader:\n",
        "    x = X['input_ids'].to(device=device)\n",
        "    actuals = X['target_ids']\n",
        "    preds = model.inference(x=x)\n",
        "    break"
      ]
    },
    {
      "cell_type": "code",
      "execution_count": 13,
      "metadata": {
        "id": "ZwEly6xtNjD8",
        "colab": {
          "base_uri": "https://localhost:8080/"
        },
        "outputId": "f0be663a-e3f6-49f1-b3b6-01151af8480f"
      },
      "outputs": [
        {
          "output_type": "execute_result",
          "data": {
            "text/plain": [
              "['और गैर4report. tx यह है और दोनों को समाहित करता है.. 1 दशम, a दोनों, और दोनों पूरा होने पर नाम. के द्वारा कृपया कोई दो या निर्देशिका है. चरण पर अधिक स्थान के लिए',\n",
              " \"तेज बाहरी सत्र से बाहरकृतिक गए पृष्ठों के रूप में एक ही संजाल पर जुड़ेना के द्वारा प्रयुक्त होता है. सूचना 1 को भरें '. pho' (अदर्लीवली अगर अनुप्रयोग क्रैश हो जाता हैं तो इसके सब\",\n",
              " '% d आपकी विशेषता बनाने के लिये एक उर्ध्वाधरचय कीजिए. छोड़ें कि आप एक प्रतिलिपि रद्द कर सकते हैं, तो कि आप डिलीट नहीं किए गए. को अद्यतन कर सकते हैं. लेाने योग्य है. रिपोर्ट करें',\n",
              " 'एक सत्यापित करकर है जो कि अधिकतम समर्थन कर सकता है. को इसके साथ विषय के ऊपर नहीं है. के साथ एक विषय को की रखें यदि कोई पास विकल्प नहीं है. पर पहुँच के लिए है स्वचालित) के',\n",
              " 'आरंभ पर तेज गए डिबग दोनों और, h. 323 दोनों. के द्वारा बनाए,ट्र संदर्भ में नहीं है, कृपया दोनों के सभी संस्करण में. हालांकि mac os कभी नहीं), \"x- सभी. 931, दो और h. 323']"
            ]
          },
          "metadata": {},
          "execution_count": 13
        }
      ],
      "source": [
        "[hi_sp.decode(i.tolist()) for i in preds[:5]]"
      ]
    },
    {
      "cell_type": "code",
      "execution_count": 16,
      "metadata": {
        "id": "5Lqi30JvNquY",
        "colab": {
          "base_uri": "https://localhost:8080/",
          "height": 35
        },
        "outputId": "3caa2c35-862a-45b0-cca8-69a63d74279d"
      },
      "outputs": [
        {
          "output_type": "execute_result",
          "data": {
            "text/plain": [
              "\"तेज बाहरी सत्र से बाहरकृतिक गए पृष्ठों के रूप में एक ही संजाल पर जुड़ेना के द्वारा प्रयुक्त होता है. सूचना 1 को भरें '. pho' (अदर्लीवली अगर अनुप्रयोग क्रैश हो जाता हैं तो इसके सब\""
            ],
            "application/vnd.google.colaboratory.intrinsic+json": {
              "type": "string"
            }
          },
          "metadata": {},
          "execution_count": 16
        }
      ],
      "source": [
        "hi_sp.decode(preds[1].tolist())"
      ]
    },
    {
      "cell_type": "code",
      "execution_count": 17,
      "metadata": {
        "id": "XhfxGuMKOCBm",
        "colab": {
          "base_uri": "https://localhost:8080/",
          "height": 35
        },
        "outputId": "a0edc2da-6904-4a54-c429-ab4a25fa1f8f"
      },
      "outputs": [
        {
          "output_type": "execute_result",
          "data": {
            "text/plain": [
              "'व्यावसायिक वाहनों के नवीनीकरण पर ग्रीन टैक्स लगाने संबंधी प्रस्ताव को भी समिति ने नहीं माना है ⁇ '"
            ],
            "application/vnd.google.colaboratory.intrinsic+json": {
              "type": "string"
            }
          },
          "metadata": {},
          "execution_count": 17
        }
      ],
      "source": [
        "hi_sp.decode(actuals[1].tolist())"
      ]
    },
    {
      "cell_type": "markdown",
      "source": [
        "Our training set accuracy is improved by a lot (70%->98%) but test set accuracy still remains bad. Let's try other approaches."
      ],
      "metadata": {
        "id": "pIXP--r49e7t"
      }
    },
    {
      "cell_type": "code",
      "execution_count": 15,
      "metadata": {
        "id": "MAHgtAVmVxDu"
      },
      "outputs": [],
      "source": []
    },
    {
      "cell_type": "code",
      "execution_count": 15,
      "metadata": {
        "id": "nYmBEe0DVyCP"
      },
      "outputs": [],
      "source": []
    }
  ],
  "metadata": {
    "accelerator": "GPU",
    "colab": {
      "gpuType": "T4",
      "provenance": []
    },
    "kernelspec": {
      "display_name": "Python 3",
      "name": "python3"
    },
    "language_info": {
      "name": "python"
    }
  },
  "nbformat": 4,
  "nbformat_minor": 0
}